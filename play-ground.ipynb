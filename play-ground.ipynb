{
 "cells": [
  {
   "cell_type": "code",
   "execution_count": 28,
   "metadata": {},
   "outputs": [],
   "source": [
    "def lcs(A,B):\n",
    "    res = 0 \n",
    "    R, C = len(A), len(B)\n",
    "    dp = [[0]*(C + 1) for i in range(R + 1)]\n",
    "    t = ()\n",
    "    for i in range(1, R + 1):\n",
    "        for j in range(1, C + 1):\n",
    "            if A[i - 1] == B[j - 1]:\n",
    "                dp[i][j] = dp[i - 1][j - 1] + 1\n",
    "            else: \n",
    "                dp[i][j] = 0\n",
    "            if res < dp[i][j]:\n",
    "                res = dp[i][j]\n",
    "                t = (i,j)\n",
    "            res = max(res, dp[i][j])\n",
    "    if res == 0:\n",
    "        return ''\n",
    "    return B[t[1]-dp[t[0]][t[1]]:t[1]]\n",
    "#     return t,dp[t[0]][t[1]]"
   ]
  },
  {
   "cell_type": "code",
   "execution_count": 30,
   "metadata": {},
   "outputs": [
    {
     "data": {
      "text/plain": [
       "'sfas'"
      ]
     },
     "execution_count": 30,
     "metadata": {},
     "output_type": "execute_result"
    }
   ],
   "source": [
    "\n",
    "lcs('adsfasdf','dfsfascfa')"
   ]
  },
  {
   "cell_type": "code",
   "execution_count": 34,
   "metadata": {},
   "outputs": [],
   "source": [
    "def longestCommonSubsequence(str1, str2):\n",
    "    m, n = len(str1), len(str2)\n",
    "    # 构建 DP table 和 base case\n",
    "    dp = [[0] * (n + 1) for _ in range(m + 1)]\n",
    "    # 进行状态转移\n",
    "    for i in range(1, m + 1):\n",
    "        for j in range(1, n + 1):\n",
    "            if str1[i - 1] == str2[j - 1]:\n",
    "                # 找到一个 lcs 中的字符\n",
    "                dp[i][j] = 1 + dp[i-1][j-1]\n",
    "            else:\n",
    "                dp[i][j] = max(dp[i-1][j], dp[i][j-1])\n",
    "        \n",
    "    return dp\n"
   ]
  },
  {
   "cell_type": "code",
   "execution_count": null,
   "metadata": {},
   "outputs": [],
   "source": [
    "def longestCommonSubsequence(str1, str2):\n",
    "    def dp(i, j):\n",
    "        # 空串的 base case\n",
    "        if i == -1 or j == -1:\n",
    "            return 0\n",
    "        if str1[i] == str2[j]:\n",
    "            # 这边找到一个 lcs 的元素，继续往前找\n",
    "            return dp(i - 1, j - 1) + 1\n",
    "        else:\n",
    "            # 谁能让 lcs 最长，就听谁的\n",
    "            return max(dp(i-1, j), dp(i, j-1))\n",
    "        \n",
    "    # i 和 j 初始化为最后一个索引\n",
    "    return dp(len(str1)-1, len(str2)-1)\n"
   ]
  },
  {
   "cell_type": "code",
   "execution_count": 35,
   "metadata": {},
   "outputs": [
    {
     "data": {
      "text/plain": [
       "[[0, 0, 0, 0, 0, 0, 0, 0, 0, 0, 0, 0, 0, 0, 0],\n",
       " [0, 1, 1, 1, 1, 1, 1, 1, 1, 1, 1, 1, 1, 1, 1],\n",
       " [0, 1, 1, 2, 2, 2, 2, 2, 2, 2, 2, 2, 2, 2, 2],\n",
       " [0, 1, 2, 2, 2, 2, 3, 3, 3, 3, 3, 3, 3, 3, 3],\n",
       " [0, 1, 2, 2, 3, 3, 3, 3, 3, 3, 3, 3, 3, 3, 4],\n",
       " [0, 1, 2, 2, 3, 4, 4, 4, 4, 4, 4, 4, 4, 4, 4],\n",
       " [0, 1, 2, 2, 3, 4, 5, 5, 5, 5, 5, 5, 5, 5, 5],\n",
       " [0, 1, 2, 3, 3, 4, 5, 6, 6, 6, 6, 6, 6, 6, 6],\n",
       " [0, 1, 2, 3, 4, 4, 5, 6, 6, 6, 6, 6, 6, 6, 7],\n",
       " [0, 1, 2, 3, 4, 4, 5, 6, 6, 6, 6, 6, 6, 7, 7],\n",
       " [0, 1, 2, 3, 4, 4, 5, 6, 6, 6, 6, 6, 6, 7, 7],\n",
       " [0, 1, 2, 3, 4, 4, 5, 6, 6, 6, 6, 6, 6, 7, 8]]"
      ]
     },
     "execution_count": 35,
     "metadata": {},
     "output_type": "execute_result"
    }
   ],
   "source": [
    "longestCommonSubsequence('adsfasdfddf','asdfasdgjljsdf')"
   ]
  },
  {
   "cell_type": "code",
   "execution_count": null,
   "metadata": {},
   "outputs": [],
   "source": []
  }
 ],
 "metadata": {
  "kernelspec": {
   "display_name": "PyCharm (jupyterProject)",
   "language": "python",
   "name": "pycharm-29c72c67"
  },
  "language_info": {
   "codemirror_mode": {
    "name": "ipython",
    "version": 3
   },
   "file_extension": ".py",
   "mimetype": "text/x-python",
   "name": "python",
   "nbconvert_exporter": "python",
   "pygments_lexer": "ipython3",
   "version": "3.7.8"
  }
 },
 "nbformat": 4,
 "nbformat_minor": 4
}
