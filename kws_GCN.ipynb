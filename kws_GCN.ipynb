{
 "cells": [
  {
   "cell_type": "code",
   "execution_count": 2,
   "metadata": {},
   "outputs": [
    {
     "name": "stderr",
     "output_type": "stream",
     "text": [
      "Using backend: pytorch\n"
     ]
    }
   ],
   "source": [
    "import dgl\n",
    "import networkx as nx\n",
    "%matplotlib inline\n",
    "\n",
    "import collections\n",
    "import re\n",
    "import pandas as pd"
   ]
  },
  {
   "cell_type": "code",
   "execution_count": 3,
   "metadata": {},
   "outputs": [],
   "source": [
    "nx_G = nx.read_graphml('./tmp/kws_graphml.graphml')\n",
    "# nx_G = nx.read_graphml('./tmp/g1000.graphml')\n",
    "nodes = list(nx_G)"
   ]
  },
  {
   "cell_type": "code",
   "execution_count": 4,
   "metadata": {},
   "outputs": [
    {
     "name": "stdout",
     "output_type": "stream",
     "text": [
      "We have 48282 nodes.\n",
      "We have 140526 edges.\n"
     ]
    }
   ],
   "source": [
    "G = dgl.DGLGraph()\n",
    "G.from_networkx(nx_G)\n",
    "print('We have %d nodes.' % G.number_of_nodes())\n",
    "print('We have %d edges.' % G.number_of_edges())"
   ]
  },
  {
   "cell_type": "code",
   "execution_count": 118,
   "metadata": {},
   "outputs": [],
   "source": [
    "import torch\n",
    "import torch.nn as nn\n",
    "import torch.nn.functional as F\n",
    "\n",
    "feat_num = 16\n",
    "hidden_num = 16\n",
    "embed = nn.Embedding(G.number_of_nodes(), feat_num)  # 34 nodes with embedding dim equal to 5\n",
    "G.ndata['feat'] = embed.weight"
   ]
  },
  {
   "cell_type": "code",
   "execution_count": 119,
   "metadata": {},
   "outputs": [
    {
     "name": "stdout",
     "output_type": "stream",
     "text": [
      "tensor([-0.1194,  0.3404, -0.9188, -0.3732,  0.6744,  1.3825, -0.3645, -0.8491,\n",
      "        -1.2483, -0.1939,  1.0561, -1.4974,  1.5101, -1.2453,  1.7572, -2.0198],\n",
      "       grad_fn=<SelectBackward>)\n",
      "tensor([[-0.6640,  0.6984, -0.1644,  0.5478, -1.3349, -1.4935, -2.5455, -0.6032,\n",
      "         -0.4477,  1.4466, -0.6842,  1.1708, -0.5629,  0.0330, -0.0407, -0.1492],\n",
      "        [-0.3688,  1.0141, -1.9332, -0.5913, -0.2946, -1.3495,  0.9587, -2.5578,\n",
      "          0.0157, -0.2854,  0.2056,  0.1945,  1.2266, -0.4094, -0.1429, -0.8163]],\n",
      "       grad_fn=<IndexBackward>)\n"
     ]
    }
   ],
   "source": [
    "# print out node 2's input feature\n",
    "print(G.ndata['feat'][2])\n",
    "\n",
    "# print out node 10 and 11's input features\n",
    "print(G.ndata['feat'][[10, 11]])"
   ]
  },
  {
   "cell_type": "code",
   "execution_count": 120,
   "metadata": {},
   "outputs": [],
   "source": [
    "from dgl.nn.pytorch import GraphConv\n",
    "\n",
    "class GCN(nn.Module):\n",
    "    def __init__(self, in_feats, hidden_size, num_classes):\n",
    "        super(GCN, self).__init__()\n",
    "        self.conv1 = GraphConv(in_feats, hidden_size)\n",
    "        self.conv2 = GraphConv(hidden_size, num_classes)\n",
    "\n",
    "    def forward(self, g, inputs):\n",
    "        h = self.conv1(g, inputs)\n",
    "        h = torch.relu(h)\n",
    "        h = self.conv2(g, h)\n",
    "        return h\n",
    "\n",
    "# The first layer transforms input features of size of 5 to a hidden size of 5.\n",
    "# The second layer transforms the hidden layer and produces output features of\n",
    "# size 2, corresponding to the two groups of the karate club.\n",
    "net = GCN(feat_num, hidden_num, 2)"
   ]
  },
  {
   "cell_type": "code",
   "execution_count": 121,
   "metadata": {},
   "outputs": [],
   "source": [
    "inputs = embed.weight\n",
    "t = nodes.index('SEMICONDUCTOR DEVICE')\n",
    "f = nodes.index('MANUFACTURING METHOD')\n",
    "labeled_nodes = torch.tensor([t, f])  # only the instructor and the president nodes are labeled\n",
    "labels = torch.tensor([0, 1])  # their labels are different"
   ]
  },
  {
   "cell_type": "code",
   "execution_count": 122,
   "metadata": {},
   "outputs": [
    {
     "name": "stdout",
     "output_type": "stream",
     "text": [
      "Epoch 0 | Loss: 0.4966\n",
      "Epoch 1 | Loss: 0.4145\n",
      "Epoch 2 | Loss: 0.3437\n",
      "Epoch 3 | Loss: 0.2828\n",
      "Epoch 4 | Loss: 0.2313\n",
      "Epoch 5 | Loss: 0.1888\n",
      "Epoch 6 | Loss: 0.1536\n",
      "Epoch 7 | Loss: 0.1246\n",
      "Epoch 8 | Loss: 0.1033\n",
      "Epoch 9 | Loss: 0.0868\n",
      "Epoch 10 | Loss: 0.0730\n",
      "Epoch 11 | Loss: 0.0614\n",
      "Epoch 12 | Loss: 0.0516\n",
      "Epoch 13 | Loss: 0.0433\n",
      "Epoch 14 | Loss: 0.0364\n",
      "Epoch 15 | Loss: 0.0307\n",
      "Epoch 16 | Loss: 0.0259\n",
      "Epoch 17 | Loss: 0.0219\n",
      "Epoch 18 | Loss: 0.0186\n",
      "Epoch 19 | Loss: 0.0158\n",
      "Epoch 20 | Loss: 0.0135\n",
      "Epoch 21 | Loss: 0.0116\n",
      "Epoch 22 | Loss: 0.0100\n",
      "Epoch 23 | Loss: 0.0087\n",
      "Epoch 24 | Loss: 0.0076\n",
      "Epoch 25 | Loss: 0.0067\n",
      "Epoch 26 | Loss: 0.0059\n",
      "Epoch 27 | Loss: 0.0052\n",
      "Epoch 28 | Loss: 0.0047\n",
      "Epoch 29 | Loss: 0.0042\n",
      "Epoch 30 | Loss: 0.0038\n",
      "Epoch 31 | Loss: 0.0034\n",
      "Epoch 32 | Loss: 0.0031\n",
      "Epoch 33 | Loss: 0.0028\n",
      "Epoch 34 | Loss: 0.0026\n",
      "Epoch 35 | Loss: 0.0024\n",
      "Epoch 36 | Loss: 0.0022\n",
      "Epoch 37 | Loss: 0.0021\n",
      "Epoch 38 | Loss: 0.0019\n",
      "Epoch 39 | Loss: 0.0018\n",
      "Epoch 40 | Loss: 0.0017\n",
      "Epoch 41 | Loss: 0.0016\n",
      "Epoch 42 | Loss: 0.0015\n",
      "Epoch 43 | Loss: 0.0015\n",
      "Epoch 44 | Loss: 0.0014\n",
      "Epoch 45 | Loss: 0.0013\n",
      "Epoch 46 | Loss: 0.0013\n",
      "Epoch 47 | Loss: 0.0012\n",
      "Epoch 48 | Loss: 0.0012\n",
      "Epoch 49 | Loss: 0.0011\n"
     ]
    }
   ],
   "source": [
    "import itertools\n",
    "\n",
    "optimizer = torch.optim.Adam(itertools.chain(net.parameters(), embed.parameters()), lr=0.01)\n",
    "all_logits = []\n",
    "epoch_num = 50\n",
    "\n",
    "logits = net(G, inputs)\n",
    "for epoch in range(epoch_num):\n",
    "    net.train()\n",
    "    logits = net(G, inputs)\n",
    "    # we save the logits for visualization later\n",
    "    all_logits.append(logits.detach())\n",
    "    logp = F.log_softmax(logits, 1)\n",
    "    # we only compute loss for labeled nodes\n",
    "    loss = F.nll_loss(logp[labeled_nodes], labels)\n",
    "\n",
    "    optimizer.zero_grad()\n",
    "    loss.backward()\n",
    "    optimizer.step()\n",
    "\n",
    "    print('Epoch %d | Loss: %.4f' % (epoch, loss.item()))"
   ]
  },
  {
   "cell_type": "code",
   "execution_count": 123,
   "metadata": {},
   "outputs": [],
   "source": [
    "# pos = nx.kamada_kawai_layout(nx_G)\n",
    "# nx.draw(nx_G, pos, with_labels=True, node_color=[[.7, .7, .7]])"
   ]
  },
  {
   "cell_type": "code",
   "execution_count": 124,
   "metadata": {},
   "outputs": [],
   "source": [
    "import matplotlib.animation as animation\n",
    "import matplotlib.pyplot as plt\n",
    "\n",
    "\n",
    "def draw(i):\n",
    "    cls1color = '#00FFFF'\n",
    "    cls2color = '#FF00FF'\n",
    "    pos = {}\n",
    "    colors = []\n",
    "    for v in range(G.number_of_nodes()):\n",
    "        pos[nodes[v]] = all_logits[i][v].numpy()\n",
    "        cls = pos[nodes[v]].argmax()\n",
    "        colors.append(cls1color if cls else cls2color)\n",
    "#     ax.cla()\n",
    "#     ax.axis('off')\n",
    "#     ax.set_title('Epoch: %d' % i)\n",
    "#     nx.draw_networkx(nx_G.to_undirected(), pos, node_color=colors,\n",
    "#             with_labels=True, node_size=300, ax=ax)\n",
    "    return pos\n",
    "\n",
    "# fig = plt.figure(dpi=150)\n",
    "# fig.clf()\n",
    "# ax = fig.subplots()\n",
    "pos = draw(0)  # draw the prediction of the first epoch\n",
    "# plt.show()\n",
    "\n"
   ]
  },
  {
   "cell_type": "code",
   "execution_count": 125,
   "metadata": {},
   "outputs": [],
   "source": [
    "# ani = animation.FuncAnimation(fig, draw, frames=len(all_logits), interval=200)"
   ]
  },
  {
   "cell_type": "code",
   "execution_count": 133,
   "metadata": {},
   "outputs": [],
   "source": [
    "from sklearn.decomposition import PCA\n",
    "from sklearn.preprocessing import StandardScaler\n",
    "\n",
    "scale = StandardScaler()\n",
    "\n",
    "X = scale.fit_transform(list(pos.values()))"
   ]
  },
  {
   "cell_type": "code",
   "execution_count": null,
   "metadata": {},
   "outputs": [],
   "source": []
  },
  {
   "cell_type": "code",
   "execution_count": 134,
   "metadata": {},
   "outputs": [
    {
     "name": "stdout",
     "output_type": "stream",
     "text": [
      "Projecting 2-dimensional data to 2D\n"
     ]
    },
    {
     "data": {
      "image/png": "[encoded data removed]",
      "text/plain": [
       "<Figure size 864x720 with 1 Axes>"
      ]
     },
     "metadata": {
      "needs_background": "light"
     },
     "output_type": "display_data"
    }
   ],
   "source": [
    "pca = PCA(n_components=2)\n",
    "pca.fit(X)\n",
    "X_reduced = pca.transform(X)\n",
    "X_reduced.shape\n",
    "\n",
    "print('Projecting %d-dimensional data to 2D' % X.shape[1])\n",
    "plt.figure(figsize=(12,10))\n",
    "\n",
    "plt.scatter(X_reduced[:, 0], X_reduced[:, 1],edgecolor='none', alpha=0.7, s=40, cmap=plt.cm.get_cmap('nipy_spectral', 10))\n",
    "# plt.colorbar()\n",
    "plt.title('PCA projection');\n"
   ]
  },
  {
   "cell_type": "code",
   "execution_count": 132,
   "metadata": {},
   "outputs": [],
   "source": [
    "X_reduced = [x[1] for x in list(X_reduced)]"
   ]
  },
  {
   "cell_type": "code",
   "execution_count": 67,
   "metadata": {},
   "outputs": [
    {
     "data": {
      "text/plain": [
       "(48282, 1)"
      ]
     },
     "execution_count": 67,
     "metadata": {},
     "output_type": "execute_result"
    }
   ],
   "source": [
    "pca = PCA(n_components=1)\n",
    "pca.fit(X)\n",
    "X_reduced = pca.transform(X)\n",
    "X_reduced.shape"
   ]
  },
  {
   "cell_type": "code",
   "execution_count": 135,
   "metadata": {},
   "outputs": [
    {
     "name": "stdout",
     "output_type": "stream",
     "text": [
      "Projecting 2-dimensional data to 1D\n"
     ]
    },
    {
     "data": {
      "image/png": "[encoded data removed]",
      "text/plain": [
       "<Figure size 864x720 with 1 Axes>"
      ]
     },
     "metadata": {
      "needs_background": "light"
     },
     "output_type": "display_data"
    }
   ],
   "source": [
    "print('Projecting %d-dimensional data to 1D' % X.shape[1])\n",
    "plt.figure(figsize=(12,10))\n",
    "\n",
    "plt.plot(X_reduced[:, 0])\n",
    "plt.title('PCA projection');"
   ]
  },
  {
   "cell_type": "code",
   "execution_count": 89,
   "metadata": {},
   "outputs": [
    {
     "data": {
      "text/plain": [
       "\u001b[1;31mType:\u001b[0m        list\n",
       "\u001b[1;31mString form:\u001b[0m [-0.9551311014671762, -0.7685107105542515, -0.7685107105542515, -0.37085499120705445, 0.653947072 <...> 326368437149958, -0.5201574874882844, 0.6175997428504019, -1.0898176482519444, 5.017744618554668]\n",
       "\u001b[1;31mLength:\u001b[0m      48282\n",
       "\u001b[1;31mDocstring:\u001b[0m  \n",
       "list() -> new empty list\n",
       "list(iterable) -> new list initialized from iterable's items\n"
      ]
     },
     "metadata": {},
     "output_type": "display_data"
    }
   ],
   "source": [
    "X_reduced = [x[0] for x in list(X_reduced)]"
   ]
  },
  {
   "cell_type": "code",
   "execution_count": null,
   "metadata": {},
   "outputs": [],
   "source": [
    "X_reduced"
   ]
  },
  {
   "cell_type": "code",
   "execution_count": 106,
   "metadata": {},
   "outputs": [],
   "source": [
    "zipped = zip(list(pos.keys()),X_reduced)\n",
    "sorted_x = sorted(zipped, key = lambda t: t[1], reverse=True)\n",
    "sorted_dict = collections.OrderedDict(sorted_x)"
   ]
  },
  {
   "cell_type": "code",
   "execution_count": 93,
   "metadata": {},
   "outputs": [],
   "source": [
    "tf_df = pd.read_excel('./out/kw_dp_term_frequency_total.xlsx')"
   ]
  },
  {
   "cell_type": "code",
   "execution_count": 148,
   "metadata": {},
   "outputs": [],
   "source": [
    "filter_dict = collections.OrderedDict()\n",
    "re_ = r\"^A |^THE |^THEIR |^ITS |^THIS |^AN |^SUCH A |^AS |^TO |^AND |^-PRON- |AT LEAST|USE THEREOF|^OR | THEREOF| THEREFOR| THERETO| THEREFROM| THEREBY\"\n",
    "for k, v in sorted_dict.items():\n",
    "    k = re.sub(re_, \"\", k.upper())\n",
    "    if  k.count(' ') < 4 and  k.count(' ') >= 1 and k.count('(') == 0 and k.count(')') == 0:\n",
    "        if True or k.upper() in tf_df['Unnamed: 0'].values:\n",
    "#             print(k.upper(),tf_df[tf_df['Unnamed: 0'] == k.upper()]['frequency'])\n",
    "            tf_s = tf_df[tf_df['Unnamed: 0'] == k.upper()]['frequency']\n",
    "            if not tf_s.empty and  tf_s.values[0] > 20 and k not in filter_dict:\n",
    "                filter_dict[k] = (tf_s.values[0], v)\n",
    "filter_df = pd.DataFrame(filter_dict).T.rename_axis('kw').add_prefix('value').reset_index()"
   ]
  },
  {
   "cell_type": "code",
   "execution_count": 150,
   "metadata": {},
   "outputs": [],
   "source": [
    "filter_df.to_excel('./out/kws_dp_GCN_top1_2_pca2.xlsx')"
   ]
  },
  {
   "cell_type": "code",
   "execution_count": 149,
   "metadata": {},
   "outputs": [
    {
     "data": {
      "text/html": [
       "<div>\n",
       "<style scoped>\n",
       "    .dataframe tbody tr th:only-of-type {\n",
       "        vertical-align: middle;\n",
       "    }\n",
       "\n",
       "    .dataframe tbody tr th {\n",
       "        vertical-align: top;\n",
       "    }\n",
       "\n",
       "    .dataframe thead th {\n",
       "        text-align: right;\n",
       "    }\n",
       "</style>\n",
       "<table border=\"1\" class=\"dataframe\">\n",
       "  <thead>\n",
       "    <tr style=\"text-align: right;\">\n",
       "      <th></th>\n",
       "      <th>kw</th>\n",
       "      <th>value0</th>\n",
       "      <th>value1</th>\n",
       "    </tr>\n",
       "  </thead>\n",
       "  <tbody>\n",
       "    <tr>\n",
       "      <th>0</th>\n",
       "      <td>SECONDARY BATTERY</td>\n",
       "      <td>1132.0</td>\n",
       "      <td>26.000441</td>\n",
       "    </tr>\n",
       "    <tr>\n",
       "      <th>1</th>\n",
       "      <td>ELECTRICAL DEVICE</td>\n",
       "      <td>51.0</td>\n",
       "      <td>2.700908</td>\n",
       "    </tr>\n",
       "    <tr>\n",
       "      <th>2</th>\n",
       "      <td>POLYMER BLEND</td>\n",
       "      <td>35.0</td>\n",
       "      <td>2.489519</td>\n",
       "    </tr>\n",
       "    <tr>\n",
       "      <th>3</th>\n",
       "      <td>T CELL</td>\n",
       "      <td>33.0</td>\n",
       "      <td>2.068599</td>\n",
       "    </tr>\n",
       "    <tr>\n",
       "      <th>4</th>\n",
       "      <td>SYNTHESIS METHOD</td>\n",
       "      <td>37.0</td>\n",
       "      <td>1.972987</td>\n",
       "    </tr>\n",
       "    <tr>\n",
       "      <th>...</th>\n",
       "      <td>...</td>\n",
       "      <td>...</td>\n",
       "      <td>...</td>\n",
       "    </tr>\n",
       "    <tr>\n",
       "      <th>1054</th>\n",
       "      <td>EXHAUST GAS PURIFYING CATALYST</td>\n",
       "      <td>64.0</td>\n",
       "      <td>-1.218886</td>\n",
       "    </tr>\n",
       "    <tr>\n",
       "      <th>1055</th>\n",
       "      <td>POWER TOOL</td>\n",
       "      <td>21.0</td>\n",
       "      <td>-1.293303</td>\n",
       "    </tr>\n",
       "    <tr>\n",
       "      <th>1056</th>\n",
       "      <td>ABSORBENT ARTICLE</td>\n",
       "      <td>61.0</td>\n",
       "      <td>-1.318788</td>\n",
       "    </tr>\n",
       "    <tr>\n",
       "      <th>1057</th>\n",
       "      <td>CONTACT LENS</td>\n",
       "      <td>22.0</td>\n",
       "      <td>-1.366557</td>\n",
       "    </tr>\n",
       "    <tr>\n",
       "      <th>1058</th>\n",
       "      <td>ANTICANCER AGENT</td>\n",
       "      <td>40.0</td>\n",
       "      <td>-1.874197</td>\n",
       "    </tr>\n",
       "  </tbody>\n",
       "</table>\n",
       "<p>1059 rows × 3 columns</p>\n",
       "</div>"
      ],
      "text/plain": [
       "                                  kw  value0     value1\n",
       "0                  SECONDARY BATTERY  1132.0  26.000441\n",
       "1                  ELECTRICAL DEVICE    51.0   2.700908\n",
       "2                      POLYMER BLEND    35.0   2.489519\n",
       "3                             T CELL    33.0   2.068599\n",
       "4                   SYNTHESIS METHOD    37.0   1.972987\n",
       "...                              ...     ...        ...\n",
       "1054  EXHAUST GAS PURIFYING CATALYST    64.0  -1.218886\n",
       "1055                      POWER TOOL    21.0  -1.293303\n",
       "1056               ABSORBENT ARTICLE    61.0  -1.318788\n",
       "1057                    CONTACT LENS    22.0  -1.366557\n",
       "1058                ANTICANCER AGENT    40.0  -1.874197\n",
       "\n",
       "[1059 rows x 3 columns]"
      ]
     },
     "execution_count": 149,
     "metadata": {},
     "output_type": "execute_result"
    }
   ],
   "source": [
    "filter_df"
   ]
  },
  {
   "cell_type": "code",
   "execution_count": 8,
   "metadata": {},
   "outputs": [
    {
     "data": {
      "text/plain": [
       "31253"
      ]
     },
     "execution_count": 8,
     "metadata": {},
     "output_type": "execute_result"
    }
   ],
   "source": [
    "nodes.index('SEMICONDUCTOR DEVICE')"
   ]
  },
  {
   "cell_type": "code",
   "execution_count": 122,
   "metadata": {},
   "outputs": [
    {
     "data": {
      "text/plain": [
       "1"
      ]
     },
     "execution_count": 122,
     "metadata": {},
     "output_type": "execute_result"
    }
   ],
   "source": [
    "tf_df[tf_df['Unnamed: 0'] == 'OPERATING HYDROGEN GENERATING APPARATUS']['frequency'].values[0]"
   ]
  },
  {
   "cell_type": "code",
   "execution_count": null,
   "metadata": {},
   "outputs": [],
   "source": []
  }
 ],
 "metadata": {
  "kernelspec": {
   "display_name": "dgl",
   "language": "python",
   "name": "dgl"
  },
  "language_info": {
   "codemirror_mode": {
    "name": "ipython",
    "version": 3
   },
   "file_extension": ".py",
   "mimetype": "text/x-python",
   "name": "python",
   "nbconvert_exporter": "python",
   "pygments_lexer": "ipython3",
   "version": "3.5.5"
  }
 },
 "nbformat": 4,
 "nbformat_minor": 4
}
