{
 "cells": [
  {
   "cell_type": "code",
   "execution_count": 45,
   "metadata": {},
   "outputs": [],
   "source": [
    "import spacy\n",
    "# import pytextrank\n",
    "import textacy.ke.textrank\n",
    "\n",
    "import glob\n",
    "import pandas as pd\n",
    "import collections\n",
    "import re, random"
   ]
  },
  {
   "cell_type": "code",
   "execution_count": 3,
   "metadata": {},
   "outputs": [],
   "source": [
    "files = glob.glob('./incoPat_225509/*.xls')\n",
    "\n",
    "dfs = []\n",
    "for f in files:\n",
    "    try:\n",
    "        dfs.append(pd.read_excel(f))\n",
    "    except Exception as e:\n",
    "        print(\"{0}: {1}\".format(f, e))\n",
    "\n",
    "df = pd.concat(dfs)\n",
    "df = df.reset_index(drop=True)"
   ]
  },
  {
   "cell_type": "code",
   "execution_count": 32,
   "metadata": {},
   "outputs": [],
   "source": [
    "text = df['标题(英)'].str.cat(sep=' . ')"
   ]
  },
  {
   "cell_type": "code",
   "execution_count": 65,
   "metadata": {},
   "outputs": [],
   "source": [
    "# load a spaCy model, depending on language, scale, etc.\n",
    "nlp = spacy.load(\"en_core_web_sm\")\n",
    "nlp.max_length = 15600000\n",
    "\n",
    "# add PyTextRank to the spaCy pipeline\n",
    "# tr = pytextrank.TextRank()\n",
    "# nlp.add_pipe(tr.PipelineComponent, name=\"textrank\", last=True)\n",
    "\n",
    "offset = random.randint(1, 10000000)\n",
    "doc = nlp(text[offset:offset+5000000], disable = ['ner'])\n",
    "sorted_dict = dict(textacy.ke.textrank(doc, topn=3000))"
   ]
  },
  {
   "cell_type": "code",
   "execution_count": 66,
   "metadata": {},
   "outputs": [],
   "source": [
    "# # examine the top-ranked phrases in the document\n",
    "# sorted_dict = {}\n",
    "# for p in doc._.phrases:\n",
    "# #     print(\"{:.4f} {:5d}  {}\".format(p.rank, p.count, p.text))\n",
    "#     sorted_dict[p.text] = p.rank\n",
    "# #     print(p.chunks)"
   ]
  },
  {
   "cell_type": "code",
   "execution_count": 67,
   "metadata": {},
   "outputs": [],
   "source": [
    "filter_dict = collections.OrderedDict()\n",
    "re_ = r\"^A |^THE |^THEIR |^ITS |^THIS |^AN |^SUCH A |^AS |^TO |^AND |^-PRON- |AT LEAST|USE THEREOF|^OR | THEREOF| THEREFOR| THERETO| THEREFROM| THEREBY\"\n",
    "for k, v in sorted_dict.items():\n",
    "    k = re.sub(re_, \"\", k.upper())\n",
    "    if  k.count(' ') < 4 and  k.count(' ') >= 1 and k.count('(') == 0 and k.count(')') == 0:\n",
    "        filter_dict[k] = v\n",
    "filter_df = pd.DataFrame.from_dict(filter_dict, orient='index', columns=['score'])"
   ]
  },
  {
   "cell_type": "code",
   "execution_count": 69,
   "metadata": {},
   "outputs": [],
   "source": [
    "filter_df.head(1000).to_excel('./out/kws_textrank.xlsx')"
   ]
  },
  {
   "cell_type": "code",
   "execution_count": 64,
   "metadata": {},
   "outputs": [
    {
     "data": {
      "text/plain": [
       "1000"
      ]
     },
     "execution_count": 64,
     "metadata": {},
     "output_type": "execute_result"
    }
   ],
   "source": [
    "len(sorted_dict)"
   ]
  },
  {
   "cell_type": "code",
   "execution_count": null,
   "metadata": {},
   "outputs": [],
   "source": []
  }
 ],
 "metadata": {
  "kernelspec": {
   "display_name": "PyCharm (jupyterProject)",
   "language": "python",
   "name": "pycharm-29c72c67"
  },
  "language_info": {
   "codemirror_mode": {
    "name": "ipython",
    "version": 3
   },
   "file_extension": ".py",
   "mimetype": "text/x-python",
   "name": "python",
   "nbconvert_exporter": "python",
   "pygments_lexer": "ipython3",
   "version": "3.7.8"
  }
 },
 "nbformat": 4,
 "nbformat_minor": 4
}
