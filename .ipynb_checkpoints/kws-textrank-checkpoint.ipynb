{
 "cells": [
  {
   "cell_type": "code",
   "execution_count": 2,
   "metadata": {},
   "outputs": [],
   "source": [
    "import spacy\n",
    "import pytextrank\n",
    "\n",
    "import glob\n",
    "import pandas as pd"
   ]
  },
  {
   "cell_type": "code",
   "execution_count": 3,
   "metadata": {},
   "outputs": [],
   "source": [
    "files = glob.glob('./incoPat_225509/*.xls')\n",
    "\n",
    "dfs = []\n",
    "for f in files:\n",
    "    try:\n",
    "        dfs.append(pd.read_excel(f))\n",
    "    except Exception as e:\n",
    "        print(\"{0}: {1}\".format(f, e))\n",
    "\n",
    "df = pd.concat(dfs)\n",
    "df = df.reset_index(drop=True)"
   ]
  },
  {
   "cell_type": "code",
   "execution_count": 4,
   "metadata": {},
   "outputs": [],
   "source": [
    "text = df['标题(英)'].str.cat(sep=' . ')"
   ]
  },
  {
   "cell_type": "code",
   "execution_count": null,
   "metadata": {},
   "outputs": [],
   "source": [
    "# load a spaCy model, depending on language, scale, etc.\n",
    "nlp = spacy.load(\"en_core_web_sm\")\n",
    "nlp.max_length = 15100000\n",
    "\n",
    "# add PyTextRank to the spaCy pipeline\n",
    "tr = pytextrank.TextRank()\n",
    "nlp.add_pipe(tr.PipelineComponent, name=\"textrank\", last=True)\n",
    "\n",
    "doc = nlp(text[:5000000], disable = ['ner'])"
   ]
  },
  {
   "cell_type": "code",
   "execution_count": null,
   "metadata": {},
   "outputs": [],
   "source": [
    "# examine the top-ranked phrases in the document\n",
    "sorted_dict = {}\n",
    "for p in doc._.phrases:\n",
    "#     print(\"{:.4f} {:5d}  {}\".format(p.rank, p.count, p.text))\n",
    "    sorted_dict[p.text] = p.rank\n",
    "#     print(p.chunks)"
   ]
  },
  {
   "cell_type": "code",
   "execution_count": null,
   "metadata": {},
   "outputs": [],
   "source": [
    "filter_dict = {}\n",
    "re_ = r\"^A |^THE |^THEIR |^ITS |^THIS |^AN |^SUCH A |^AS |^TO |^AND |^-PRON- |AT LEAST|USE THEREOF|^OR | THEREOF| THEREFOR| THERETO| THEREFROM| THEREBY\"\n",
    "for k, v in sorted_dict.items():\n",
    "    k = re.sub(re_, \"\", k.upper())\n",
    "    if ' ' in k:\n",
    "        filter_dict[k] = v\n",
    "filter_df = pd.DataFrame.from_dict(filter_dict, orient='index', columns=['A'])"
   ]
  },
  {
   "cell_type": "code",
   "execution_count": null,
   "metadata": {},
   "outputs": [],
   "source": [
    "filter_df.to_excel('./out/kws_textrank.xlsx')"
   ]
  }
 ],
 "metadata": {
  "kernelspec": {
   "display_name": "PyCharm (jupyterProject)",
   "language": "python",
   "name": "pycharm-29c72c67"
  },
  "language_info": {
   "codemirror_mode": {
    "name": "ipython",
    "version": 3
   },
   "file_extension": ".py",
   "mimetype": "text/x-python",
   "name": "python",
   "nbconvert_exporter": "python",
   "pygments_lexer": "ipython3",
   "version": "3.7.8"
  }
 },
 "nbformat": 4,
 "nbformat_minor": 4
}
