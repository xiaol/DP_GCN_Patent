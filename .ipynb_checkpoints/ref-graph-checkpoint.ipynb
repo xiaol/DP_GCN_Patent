{
 "cells": [
  {
   "cell_type": "code",
   "execution_count": 3,
   "metadata": {},
   "outputs": [],
   "source": [
    "import pandas as pd\n",
    "import glob\n",
    "\n",
    "import en_core_web_sm\n",
    "from collections import Counter\n",
    "\n",
    "import re\n",
    "import swifter\n",
    "# from textblob import TextBlob\n",
    "\n",
    "import sys, os\n",
    "module_path = os.path.abspath(os.path.join('..'))\n",
    "if module_path not in sys.path:\n",
    "    sys.path.append(module_path)\n",
    "import networkx as nx"
   ]
  },
  {
   "cell_type": "code",
   "execution_count": 2,
   "metadata": {},
   "outputs": [],
   "source": [
    "files = glob.glob('./incoPat_225509/*.xls')\n",
    "\n",
    "dfs = []\n",
    "for f in files:\n",
    "    try:\n",
    "        dfs.append(pd.read_excel(f))\n",
    "    except Exception as e:\n",
    "        print(\"{0}: {1}\".format(f, e))\n",
    "\n",
    "df = pd.concat(dfs)"
   ]
  },
  {
   "cell_type": "code",
   "execution_count": 4,
   "metadata": {},
   "outputs": [
    {
     "data": {
      "text/plain": [
       "Index(['序号', '标题(中)', '摘要(中)', '公开(公告)号', ' 最早公开（公告）日', '申请号', '最早申请日', '同族国家',\n",
       "       '族成员个数', '扩展同族ID', '链接到incoPat', '标题(英)', '摘要(英)', '合享价值度', '优先权信息',\n",
       "       '专利有效性', 'IPC主分类', 'IPC', '国民经济分类', '申请人', '标准申请人', '申请人国别代码',\n",
       "       '申请人省市代码', '发明人', '被引证专利', '引证专利', '引证申请人', '被引证申请人', '被引证次数', '转让人',\n",
       "       '受让人', '转让执行日', '当前被许可人'],\n",
       "      dtype='object')"
      ]
     },
     "execution_count": 4,
     "metadata": {},
     "output_type": "execute_result"
    }
   ],
   "source": [
    "df.columns"
   ]
  },
  {
   "cell_type": "code",
   "execution_count": 14,
   "metadata": {},
   "outputs": [],
   "source": [
    "df = df.reset_index(drop=True)"
   ]
  },
  {
   "cell_type": "code",
   "execution_count": 50,
   "metadata": {},
   "outputs": [],
   "source": [
    "s1 = df['被引证专利'].str.strip().str.split(';').explode().to_frame()\n",
    "s1['t_index'] = s1.index"
   ]
  },
  {
   "cell_type": "code",
   "execution_count": 183,
   "metadata": {},
   "outputs": [
    {
     "data": {
      "text/plain": [
       "序号                                                       103072\n",
       "标题(中)         使用用于监测、分析和控制的一体式自动化系统来提供加热、冷却、发电和能量储存的基于混合式三联产...\n",
       "摘要(中)         一种流动涡流扰流器(100)，包括：油槽(32)，其中加压空气流(90)围绕油槽移动穿过槽加...\n",
       "公开(公告)号       US9572897B2; JP2017518254A; US20160193299A1; U...\n",
       " 最早公开（公告）日                                  2010-10-24 00:00:00\n",
       "申请号           US61618961; JP2015504587; CA2868429; US1439010...\n",
       "最早申请日                                       2009-04-24 00:00:00\n",
       "同族国家          [中国香港, 中国台湾, 俄罗斯, 日本, 克罗地亚, 新西兰, 巴西, 新加坡, 斯洛文尼...\n",
       "族成员个数                                                       603\n",
       "扩展同族ID                                                140516972\n",
       "链接到incoPat                                                    0\n",
       "标题(英)         AUTOMATED HYBRID AQUAPONICS AND BIOREACTOR SYS...\n",
       "摘要(英)         A carpule for a dental syringe provides an int...\n",
       "合享价值度                                                        10\n",
       "优先权信息         US61737168 20121214; US61681720 20120810; US61...\n",
       "专利有效性                                                        有效\n",
       "IPC主分类        C12N15/09; C12N15/10; A61K31/7115; C12Q1/68; C...\n",
       "IPC           C12N15/09; A61K9/00; A61K31/7088; A61K47/44; A...\n",
       "国民经济分类         C27, C26, C39, C34, C37, I63, C35, C41, A01, C33\n",
       "申请人                                                    SI集团有限公司\n",
       "标准申请人            盖尔德玛-C; 巴西航空-C; 京瓷公司-C; 通用电气-C; 圣莱科特-C; SMAR-C\n",
       "申请人国别代码                  美国, 法国, 欧洲专利局, 瑞士, 巴西, 日本, 加拿大, 泰国, 印度\n",
       "申请人省市代码                                          美国, US, 瑞士, CH\n",
       "发明人           Stephane  Bancel; Antonin  de Fougerolles; Say...\n",
       "被引证专利         US9447164B2; US10258698B2; US9233141B2; US1057...\n",
       "引证专利                          内容长度过大，已经超出excel单元格的最大值，请选择其他文件格式\n",
       "引证申请人                         内容长度过大，已经超出excel单元格的最大值，请选择其他文件格式\n",
       "被引证申请人        Translate Bio,  Inc.; ModernaTX,  Inc.; Modern...\n",
       "被引证次数                                                      1436\n",
       "转让人           BANCEL,  STEPHANE; EJEBE,  KENECHI G.; EJEBE, ...\n",
       "受让人           MODERNA THERAPEUTICS; MODERNA THERAPEUTICS,  I...\n",
       "转让执行日         2010-11-23;2011-06-14;2013-03-13;2013-03-14;20...\n",
       "当前被许可人                                                      NaN\n",
       "Name: 23071, dtype: object"
      ]
     },
     "execution_count": 183,
     "metadata": {},
     "output_type": "execute_result"
    }
   ],
   "source": [
    "# df.pivot_table(columns=['公开(公告)号'], aggfunc=[len], fill_value=0)\n",
    "df.loc[23071]"
   ]
  },
  {
   "cell_type": "code",
   "execution_count": 51,
   "metadata": {},
   "outputs": [],
   "source": [
    "s2 = df['公开(公告)号'].str.strip().str.split(';').explode().to_frame()\n",
    "s2['s_index'] = s2.index"
   ]
  },
  {
   "cell_type": "code",
   "execution_count": 143,
   "metadata": {},
   "outputs": [],
   "source": [
    "eds = s1.merge(s2,left_on='被引证专利', right_on='公开(公告)号')"
   ]
  },
  {
   "cell_type": "code",
   "execution_count": 209,
   "metadata": {},
   "outputs": [],
   "source": [
    "refs = eds[['t_index', 's_index']].groupby('s_index').count()"
   ]
  },
  {
   "cell_type": "code",
   "execution_count": 210,
   "metadata": {},
   "outputs": [],
   "source": [
    "refs_df = refs[ refs.t_index > 1000]"
   ]
  },
  {
   "cell_type": "code",
   "execution_count": 211,
   "metadata": {},
   "outputs": [
    {
     "data": {
      "text/html": [
       "<div>\n",
       "<style scoped>\n",
       "    .dataframe tbody tr th:only-of-type {\n",
       "        vertical-align: middle;\n",
       "    }\n",
       "\n",
       "    .dataframe tbody tr th {\n",
       "        vertical-align: top;\n",
       "    }\n",
       "\n",
       "    .dataframe thead th {\n",
       "        text-align: right;\n",
       "    }\n",
       "</style>\n",
       "<table border=\"1\" class=\"dataframe\">\n",
       "  <thead>\n",
       "    <tr style=\"text-align: right;\">\n",
       "      <th></th>\n",
       "      <th>t_index</th>\n",
       "    </tr>\n",
       "    <tr>\n",
       "      <th>s_index</th>\n",
       "      <th></th>\n",
       "    </tr>\n",
       "  </thead>\n",
       "  <tbody>\n",
       "    <tr>\n",
       "      <th>11359</th>\n",
       "      <td>1021</td>\n",
       "    </tr>\n",
       "    <tr>\n",
       "      <th>13629</th>\n",
       "      <td>1226</td>\n",
       "    </tr>\n",
       "    <tr>\n",
       "      <th>16411</th>\n",
       "      <td>1385</td>\n",
       "    </tr>\n",
       "    <tr>\n",
       "      <th>17047</th>\n",
       "      <td>1116</td>\n",
       "    </tr>\n",
       "    <tr>\n",
       "      <th>22103</th>\n",
       "      <td>1120</td>\n",
       "    </tr>\n",
       "    <tr>\n",
       "      <th>...</th>\n",
       "      <td>...</td>\n",
       "    </tr>\n",
       "    <tr>\n",
       "      <th>214665</th>\n",
       "      <td>1230</td>\n",
       "    </tr>\n",
       "    <tr>\n",
       "      <th>215726</th>\n",
       "      <td>1899</td>\n",
       "    </tr>\n",
       "    <tr>\n",
       "      <th>218023</th>\n",
       "      <td>1412</td>\n",
       "    </tr>\n",
       "    <tr>\n",
       "      <th>218177</th>\n",
       "      <td>4589</td>\n",
       "    </tr>\n",
       "    <tr>\n",
       "      <th>223303</th>\n",
       "      <td>1140</td>\n",
       "    </tr>\n",
       "  </tbody>\n",
       "</table>\n",
       "<p>92 rows × 1 columns</p>\n",
       "</div>"
      ],
      "text/plain": [
       "         t_index\n",
       "s_index         \n",
       "11359       1021\n",
       "13629       1226\n",
       "16411       1385\n",
       "17047       1116\n",
       "22103       1120\n",
       "...          ...\n",
       "214665      1230\n",
       "215726      1899\n",
       "218023      1412\n",
       "218177      4589\n",
       "223303      1140\n",
       "\n",
       "[92 rows x 1 columns]"
      ]
     },
     "execution_count": 211,
     "metadata": {},
     "output_type": "execute_result"
    }
   ],
   "source": [
    "refs_df"
   ]
  },
  {
   "cell_type": "code",
   "execution_count": 212,
   "metadata": {},
   "outputs": [],
   "source": [
    "eds_df = eds[eds.s_index.isin(refs_df.index)]"
   ]
  },
  {
   "cell_type": "code",
   "execution_count": 216,
   "metadata": {},
   "outputs": [],
   "source": [
    "G = nx.from_pandas_edgelist(df=eds_df[['t_index', 's_index']], source='s_index', target='t_index', create_using=nx.DiGraph)"
   ]
  },
  {
   "cell_type": "code",
   "execution_count": null,
   "metadata": {},
   "outputs": [],
   "source": [
    "nx.draw(G)"
   ]
  },
  {
   "cell_type": "code",
   "execution_count": 218,
   "metadata": {},
   "outputs": [],
   "source": [
    "nx.write_graphml(G, './g1.graphml')"
   ]
  },
  {
   "cell_type": "code",
   "execution_count": 83,
   "metadata": {},
   "outputs": [],
   "source": [
    "G1000 = nx.from_pandas_edgelist(df=eds[['t_index', 's_index']].head(1000), source='s_index', target='t_index')\n",
    "nx.write_graphml(G1000, './g1000.graphml')"
   ]
  },
  {
   "cell_type": "code",
   "execution_count": 112,
   "metadata": {},
   "outputs": [],
   "source": [
    "# largest_cc = max(nx.connected_components(G), key=len)"
   ]
  },
  {
   "cell_type": "code",
   "execution_count": null,
   "metadata": {},
   "outputs": [],
   "source": [
    "# kcs = nx.k_components(G)"
   ]
  },
  {
   "cell_type": "code",
   "execution_count": null,
   "metadata": {},
   "outputs": [],
   "source": []
  }
 ],
 "metadata": {
  "kernelspec": {
   "display_name": "PyCharm (jupyterProject)",
   "language": "python",
   "name": "pycharm-29c72c67"
  },
  "language_info": {
   "codemirror_mode": {
    "name": "ipython",
    "version": 3
   },
   "file_extension": ".py",
   "mimetype": "text/x-python",
   "name": "python",
   "nbconvert_exporter": "python",
   "pygments_lexer": "ipython3",
   "version": "3.7.8"
  }
 },
 "nbformat": 4,
 "nbformat_minor": 4
}
