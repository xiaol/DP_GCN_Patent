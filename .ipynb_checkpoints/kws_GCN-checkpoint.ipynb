{
 "cells": [
  {
   "cell_type": "code",
   "execution_count": 2,
   "metadata": {},
   "outputs": [
    {
     "name": "stderr",
     "output_type": "stream",
     "text": [
      "Using backend: pytorch\n"
     ]
    }
   ],
   "source": [
    "import dgl\n",
    "import networkx as nx\n",
    "%matplotlib inline\n",
    "\n",
    "import collections\n",
    "import re\n",
    "import pandas as pd"
   ]
  },
  {
   "cell_type": "code",
   "execution_count": 3,
   "metadata": {},
   "outputs": [],
   "source": [
    "nx_G = nx.read_graphml('./tmp/kws_graphml.graphml')\n",
    "# nx_G = nx.read_graphml('./tmp/g1000.graphml')\n",
    "nodes = list(nx_G)"
   ]
  },
  {
   "cell_type": "code",
   "execution_count": 4,
   "metadata": {},
   "outputs": [
    {
     "name": "stdout",
     "output_type": "stream",
     "text": [
      "We have 48282 nodes.\n",
      "We have 140526 edges.\n"
     ]
    }
   ],
   "source": [
    "G = dgl.DGLGraph()\n",
    "G.from_networkx(nx_G)\n",
    "print('We have %d nodes.' % G.number_of_nodes())\n",
    "print('We have %d edges.' % G.number_of_edges())"
   ]
  },
  {
   "cell_type": "code",
   "execution_count": 58,
   "metadata": {},
   "outputs": [],
   "source": [
    "import torch\n",
    "import torch.nn as nn\n",
    "import torch.nn.functional as F\n",
    "\n",
    "feat_num = 64\n",
    "hidden_num = 64\n",
    "embed = nn.Embedding(G.number_of_nodes(), feat_num)  # 34 nodes with embedding dim equal to 5\n",
    "G.ndata['feat'] = embed.weight"
   ]
  },
  {
   "cell_type": "code",
   "execution_count": 59,
   "metadata": {},
   "outputs": [
    {
     "name": "stdout",
     "output_type": "stream",
     "text": [
      "tensor([ 0.9782,  0.1487,  0.6257, -0.0446,  0.2903, -0.0271, -0.8676, -0.3029,\n",
      "        -1.1971,  0.3114,  0.0236,  0.0333,  1.2429,  0.6526,  1.5193,  1.0730,\n",
      "         0.1505, -1.6596,  1.1645, -1.5472, -0.2558, -0.6943,  0.3589,  1.2615,\n",
      "         0.7456, -0.0925, -1.7969,  0.3454, -0.0805, -0.5303,  0.0663, -1.7176,\n",
      "        -0.4455,  0.0297, -0.5552,  0.1394, -0.9872, -0.8004,  0.4930,  1.2083,\n",
      "         1.8462,  0.7395, -1.8030, -1.3887, -0.0106, -0.2059, -2.6253, -0.6320,\n",
      "        -0.5735, -1.9790,  0.3877, -1.7705, -1.1124, -0.8406,  0.3709,  1.8929,\n",
      "        -1.2261, -0.1030,  0.4501,  1.1134,  0.6119,  0.1470,  1.8666,  1.4697,\n",
      "         0.9946, -0.8353,  1.0029, -0.0636, -0.4861, -1.1553,  1.4111,  0.4904,\n",
      "         0.2397, -0.7024,  0.9564, -1.1032,  0.2829,  1.2177, -0.4898, -0.1136,\n",
      "        -0.1274, -1.9027, -0.2377,  0.3748,  0.3020,  1.0374, -1.1574,  0.6872,\n",
      "         1.1123, -0.5261, -1.0413,  0.4662,  0.3632,  1.3062,  0.0780, -0.8201,\n",
      "         0.0071,  1.4644,  1.0626,  1.5527, -0.5627,  1.2660,  1.4970,  0.3501,\n",
      "         0.2579, -0.8296,  1.5651, -3.2379, -0.3034, -0.8979, -1.4527,  1.7780,\n",
      "         0.9739, -0.2765, -0.6588,  0.0104, -1.7239,  0.0158, -0.0123,  0.2462,\n",
      "        -0.7372, -2.3193,  0.6275,  0.6848, -1.9570,  1.6479,  0.4281,  0.3667],\n",
      "       grad_fn=<SelectBackward>)\n",
      "tensor([[-0.4434,  0.9882, -1.4912,  0.1157, -0.3432,  0.5668, -1.8748, -1.0729,\n",
      "         -1.1751, -1.2936,  0.5282, -2.5115,  0.7973, -1.9169, -1.2556, -0.1482,\n",
      "          0.4759, -0.9895, -0.6894,  0.9895,  0.1996, -0.5891,  0.4641,  0.5741,\n",
      "          0.5992,  0.1466,  0.4140, -0.4879,  0.1422, -0.4352, -0.9230, -1.1324,\n",
      "         -0.4590, -1.4056, -1.6452, -0.7966,  0.6706, -0.4184, -0.4680, -0.9958,\n",
      "         -0.9794,  1.0673,  0.2484, -1.3131, -0.4598,  0.9322,  0.5521, -0.7571,\n",
      "          0.8510,  0.8774, -0.0530,  0.6818, -0.4488,  0.9786, -0.3672, -0.2930,\n",
      "          0.3310,  0.7886,  1.1993,  0.6663,  0.0974, -1.2834,  0.4742, -0.5624,\n",
      "         -0.3123, -1.0131,  1.6216, -1.4530,  1.7337, -0.7359,  1.4481,  1.8392,\n",
      "         -2.2942, -1.3857, -0.0476, -1.3298, -0.4200, -0.4512, -0.1866,  0.0852,\n",
      "         -0.4972,  0.6903, -2.1846, -0.0526, -0.6303, -0.6548, -0.6458,  1.0990,\n",
      "         -0.0951, -0.5616,  0.1406, -1.1858,  0.3309,  0.4471, -0.4043, -0.2215,\n",
      "          0.4316,  1.2955, -1.2442, -0.9027, -1.3898, -1.7371, -0.3683,  0.2593,\n",
      "          0.3303, -1.8870,  0.4801, -1.1196,  0.5408,  0.1255,  1.4402, -2.2218,\n",
      "         -0.1282,  1.4968, -0.1712, -0.6479,  0.2367,  1.4488, -0.5002,  0.6361,\n",
      "         -1.2965, -0.8949,  1.2052,  0.7395, -0.2047,  0.2937, -0.2719,  0.5428],\n",
      "        [-0.3437,  0.9958, -0.0077,  0.9968,  0.3463,  0.8028,  1.2320, -0.0930,\n",
      "          0.7908,  0.1758,  0.4506, -1.6884,  0.6270, -0.0992, -0.6212, -1.2298,\n",
      "         -1.2742,  0.5542, -1.7435,  0.4739, -0.7228, -0.7454,  1.6544,  0.8600,\n",
      "          0.5114, -0.8996, -0.5367,  0.5721, -0.7321,  0.5710,  0.7433,  0.5766,\n",
      "         -2.6319,  0.0671, -0.7414, -0.1657,  0.0934, -0.4425,  0.3777,  1.4094,\n",
      "         -0.3810,  0.7554, -2.0382,  0.0053,  0.1895,  1.3372, -0.7066, -0.5039,\n",
      "          1.4882, -2.4373, -1.1345,  0.3625,  0.4966,  0.7345, -0.6345,  0.8668,\n",
      "          0.8882, -1.1412,  0.7349,  0.9654, -0.0608,  1.5022, -0.9032, -1.1759,\n",
      "          0.4405,  2.6316,  0.0432,  0.4279, -0.1356,  0.9458,  0.5660, -0.4622,\n",
      "         -0.7852,  1.5249,  2.3147, -0.5254, -0.2997,  2.1011,  0.2192, -0.1116,\n",
      "          0.1481,  0.8601, -0.7432,  0.0293, -0.2505, -2.0730,  0.0770,  0.8402,\n",
      "          0.0237,  0.4904,  0.3097, -0.9541,  0.5956, -0.1949, -1.3892,  0.3463,\n",
      "          0.3848, -0.5116,  1.2136, -0.5175,  0.9769, -1.4450,  1.3906,  1.3612,\n",
      "          0.5936,  0.9739,  1.9298, -0.5180,  0.8583,  2.0838, -0.4392,  0.1718,\n",
      "          1.2417, -0.1935,  0.1846,  0.8801,  1.9621,  0.7772, -0.2743, -0.3848,\n",
      "         -1.8022, -0.6953,  1.5760,  0.6224, -0.3852,  0.0490, -1.0466, -1.1387]],\n",
      "       grad_fn=<IndexBackward>)\n"
     ]
    }
   ],
   "source": [
    "# print out node 2's input feature\n",
    "print(G.ndata['feat'][2])\n",
    "\n",
    "# print out node 10 and 11's input features\n",
    "print(G.ndata['feat'][[10, 11]])"
   ]
  },
  {
   "cell_type": "code",
   "execution_count": 60,
   "metadata": {},
   "outputs": [],
   "source": [
    "from dgl.nn.pytorch import GraphConv\n",
    "\n",
    "class GCN(nn.Module):\n",
    "    def __init__(self, in_feats, hidden_size, num_classes):\n",
    "        super(GCN, self).__init__()\n",
    "        self.conv1 = GraphConv(in_feats, hidden_size)\n",
    "        self.conv2 = GraphConv(hidden_size, num_classes)\n",
    "\n",
    "    def forward(self, g, inputs):\n",
    "        h = self.conv1(g, inputs)\n",
    "        h = torch.relu(h)\n",
    "        h = self.conv2(g, h)\n",
    "        return h\n",
    "\n",
    "# The first layer transforms input features of size of 5 to a hidden size of 5.\n",
    "# The second layer transforms the hidden layer and produces output features of\n",
    "# size 2, corresponding to the two groups of the karate club.\n",
    "net = GCN(feat_num, hidden_num, 2)"
   ]
  },
  {
   "cell_type": "code",
   "execution_count": 61,
   "metadata": {},
   "outputs": [],
   "source": [
    "inputs = embed.weight\n",
    "t = nodes.index('SEMICONDUCTOR DEVICE')\n",
    "f = nodes.index('MANUFACTURING METHOD')\n",
    "labeled_nodes = torch.tensor([t, f])  # only the instructor and the president nodes are labeled\n",
    "labels = torch.tensor([0, 1])  # their labels are different"
   ]
  },
  {
   "cell_type": "code",
   "execution_count": 62,
   "metadata": {},
   "outputs": [
    {
     "name": "stdout",
     "output_type": "stream",
     "text": [
      "Epoch 0 | Loss: 1.3161\n",
      "Epoch 1 | Loss: 0.1261\n",
      "Epoch 2 | Loss: 0.0293\n",
      "Epoch 3 | Loss: 0.0078\n",
      "Epoch 4 | Loss: 0.0021\n",
      "Epoch 5 | Loss: 0.0006\n",
      "Epoch 6 | Loss: 0.0002\n",
      "Epoch 7 | Loss: 0.0001\n",
      "Epoch 8 | Loss: 0.0000\n",
      "Epoch 9 | Loss: 0.0000\n",
      "Epoch 10 | Loss: 0.0000\n",
      "Epoch 11 | Loss: 0.0000\n",
      "Epoch 12 | Loss: 0.0000\n",
      "Epoch 13 | Loss: 0.0000\n",
      "Epoch 14 | Loss: 0.0000\n",
      "Epoch 15 | Loss: 0.0000\n",
      "Epoch 16 | Loss: 0.0000\n",
      "Epoch 17 | Loss: 0.0000\n",
      "Epoch 18 | Loss: 0.0000\n",
      "Epoch 19 | Loss: 0.0000\n",
      "Epoch 20 | Loss: 0.0000\n",
      "Epoch 21 | Loss: 0.0000\n",
      "Epoch 22 | Loss: 0.0000\n",
      "Epoch 23 | Loss: 0.0000\n",
      "Epoch 24 | Loss: 0.0000\n",
      "Epoch 25 | Loss: 0.0000\n",
      "Epoch 26 | Loss: 0.0000\n",
      "Epoch 27 | Loss: 0.0000\n",
      "Epoch 28 | Loss: 0.0000\n",
      "Epoch 29 | Loss: 0.0000\n",
      "Epoch 30 | Loss: 0.0000\n",
      "Epoch 31 | Loss: 0.0000\n",
      "Epoch 32 | Loss: 0.0000\n",
      "Epoch 33 | Loss: 0.0000\n",
      "Epoch 34 | Loss: 0.0000\n",
      "Epoch 35 | Loss: 0.0000\n",
      "Epoch 36 | Loss: 0.0000\n",
      "Epoch 37 | Loss: 0.0000\n",
      "Epoch 38 | Loss: 0.0000\n",
      "Epoch 39 | Loss: 0.0000\n",
      "Epoch 40 | Loss: 0.0000\n",
      "Epoch 41 | Loss: 0.0000\n",
      "Epoch 42 | Loss: 0.0000\n",
      "Epoch 43 | Loss: 0.0000\n",
      "Epoch 44 | Loss: 0.0000\n",
      "Epoch 45 | Loss: 0.0000\n",
      "Epoch 46 | Loss: 0.0000\n",
      "Epoch 47 | Loss: 0.0000\n",
      "Epoch 48 | Loss: 0.0000\n",
      "Epoch 49 | Loss: 0.0000\n",
      "Epoch 50 | Loss: 0.0000\n",
      "Epoch 51 | Loss: 0.0000\n",
      "Epoch 52 | Loss: 0.0000\n",
      "Epoch 53 | Loss: 0.0000\n",
      "Epoch 54 | Loss: 0.0000\n",
      "Epoch 55 | Loss: 0.0000\n",
      "Epoch 56 | Loss: 0.0000\n",
      "Epoch 57 | Loss: 0.0000\n",
      "Epoch 58 | Loss: 0.0000\n",
      "Epoch 59 | Loss: 0.0000\n",
      "Epoch 60 | Loss: 0.0000\n",
      "Epoch 61 | Loss: 0.0000\n",
      "Epoch 62 | Loss: 0.0000\n",
      "Epoch 63 | Loss: 0.0000\n",
      "Epoch 64 | Loss: 0.0000\n",
      "Epoch 65 | Loss: 0.0000\n",
      "Epoch 66 | Loss: 0.0000\n",
      "Epoch 67 | Loss: 0.0000\n",
      "Epoch 68 | Loss: 0.0000\n",
      "Epoch 69 | Loss: 0.0000\n",
      "Epoch 70 | Loss: 0.0000\n",
      "Epoch 71 | Loss: 0.0000\n",
      "Epoch 72 | Loss: 0.0000\n",
      "Epoch 73 | Loss: 0.0000\n",
      "Epoch 74 | Loss: 0.0000\n",
      "Epoch 75 | Loss: 0.0000\n",
      "Epoch 76 | Loss: 0.0000\n",
      "Epoch 77 | Loss: 0.0000\n",
      "Epoch 78 | Loss: 0.0000\n",
      "Epoch 79 | Loss: 0.0000\n",
      "Epoch 80 | Loss: 0.0000\n",
      "Epoch 81 | Loss: 0.0000\n",
      "Epoch 82 | Loss: 0.0000\n",
      "Epoch 83 | Loss: 0.0000\n",
      "Epoch 84 | Loss: 0.0000\n",
      "Epoch 85 | Loss: 0.0000\n",
      "Epoch 86 | Loss: 0.0000\n",
      "Epoch 87 | Loss: 0.0000\n",
      "Epoch 88 | Loss: 0.0000\n",
      "Epoch 89 | Loss: 0.0000\n",
      "Epoch 90 | Loss: 0.0000\n",
      "Epoch 91 | Loss: 0.0000\n",
      "Epoch 92 | Loss: 0.0000\n",
      "Epoch 93 | Loss: 0.0000\n",
      "Epoch 94 | Loss: 0.0000\n",
      "Epoch 95 | Loss: 0.0000\n",
      "Epoch 96 | Loss: 0.0000\n",
      "Epoch 97 | Loss: 0.0000\n",
      "Epoch 98 | Loss: 0.0000\n",
      "Epoch 99 | Loss: 0.0000\n"
     ]
    }
   ],
   "source": [
    "import itertools\n",
    "\n",
    "optimizer = torch.optim.Adam(itertools.chain(net.parameters(), embed.parameters()), lr=0.01)\n",
    "all_logits = []\n",
    "epoch_num = 50\n",
    "\n",
    "logits = net(G, inputs)\n",
    "for epoch in range(epoch_num):\n",
    "    net.train()\n",
    "    logits = net(G, inputs)\n",
    "    # we save the logits for visualization later\n",
    "    all_logits.append(logits.detach())\n",
    "    logp = F.log_softmax(logits, 1)\n",
    "    # we only compute loss for labeled nodes\n",
    "    loss = F.nll_loss(logp[labeled_nodes], labels)\n",
    "\n",
    "    optimizer.zero_grad()\n",
    "    loss.backward()\n",
    "    optimizer.step()\n",
    "\n",
    "    print('Epoch %d | Loss: %.4f' % (epoch, loss.item()))"
   ]
  },
  {
   "cell_type": "code",
   "execution_count": 63,
   "metadata": {},
   "outputs": [],
   "source": [
    "# pos = nx.kamada_kawai_layout(nx_G)\n",
    "# nx.draw(nx_G, pos, with_labels=True, node_color=[[.7, .7, .7]])"
   ]
  },
  {
   "cell_type": "code",
   "execution_count": 64,
   "metadata": {},
   "outputs": [],
   "source": [
    "import matplotlib.animation as animation\n",
    "import matplotlib.pyplot as plt\n",
    "\n",
    "\n",
    "def draw(i):\n",
    "    cls1color = '#00FFFF'\n",
    "    cls2color = '#FF00FF'\n",
    "    pos = {}\n",
    "    colors = []\n",
    "    for v in range(G.number_of_nodes()):\n",
    "        pos[nodes[v]] = all_logits[i][v].numpy()\n",
    "        cls = pos[nodes[v]].argmax()\n",
    "        colors.append(cls1color if cls else cls2color)\n",
    "#     ax.cla()\n",
    "#     ax.axis('off')\n",
    "#     ax.set_title('Epoch: %d' % i)\n",
    "#     nx.draw_networkx(nx_G.to_undirected(), pos, node_color=colors,\n",
    "#             with_labels=True, node_size=300, ax=ax)\n",
    "    return pos\n",
    "\n",
    "# fig = plt.figure(dpi=150)\n",
    "# fig.clf()\n",
    "# ax = fig.subplots()\n",
    "pos = draw(70)  # draw the prediction of the first epoch\n",
    "# plt.show()\n",
    "\n"
   ]
  },
  {
   "cell_type": "code",
   "execution_count": 65,
   "metadata": {},
   "outputs": [],
   "source": [
    "# ani = animation.FuncAnimation(fig, draw, frames=len(all_logits), interval=200)"
   ]
  },
  {
   "cell_type": "code",
   "execution_count": 66,
   "metadata": {},
   "outputs": [],
   "source": [
    "from sklearn.decomposition import PCA\n",
    "from sklearn.preprocessing import StandardScaler\n",
    "\n",
    "scale = StandardScaler()\n",
    "\n",
    "X = scale.fit_transform(list(pos.values()))"
   ]
  },
  {
   "cell_type": "code",
   "execution_count": 77,
   "metadata": {},
   "outputs": [
    {
     "data": {
      "text/plain": [
       "array([ 0.22355683, -0.14879026, -0.14879026, ...,  0.08475294,\n",
       "        0.13974097, -0.78978102])"
      ]
     },
     "execution_count": 77,
     "metadata": {},
     "output_type": "execute_result"
    }
   ],
   "source": []
  },
  {
   "cell_type": "code",
   "execution_count": 90,
   "metadata": {},
   "outputs": [
    {
     "name": "stdout",
     "output_type": "stream",
     "text": [
      "Projecting 2-dimensional data to 2D\n"
     ]
    },
    {
     "data": {
      "image/png": "[encoded data removed]",
      "text/plain": [
       "<Figure size 864x720 with 1 Axes>"
      ]
     },
     "metadata": {
      "needs_background": "light"
     },
     "output_type": "display_data"
    }
   ],
   "source": [
    "pca = PCA(n_components=2)\n",
    "pca.fit(X)\n",
    "X_reduced = pca.transform(X)\n",
    "X_reduced.shape\n",
    "\n",
    "print('Projecting %d-dimensional data to 2D' % X.shape[1])\n",
    "plt.figure(figsize=(12,10))\n",
    "\n",
    "plt.scatter(X_reduced[:, 0], X_reduced[:, 1],edgecolor='none', alpha=0.7, s=40, cmap=plt.cm.get_cmap('nipy_spectral', 10))\n",
    "# plt.colorbar()\n",
    "plt.title('PCA projection');\n",
    "X_reduced = [x[1] for x in list(X_reduced)]"
   ]
  },
  {
   "cell_type": "code",
   "execution_count": 67,
   "metadata": {},
   "outputs": [
    {
     "data": {
      "text/plain": [
       "(48282, 1)"
      ]
     },
     "execution_count": 67,
     "metadata": {},
     "output_type": "execute_result"
    }
   ],
   "source": [
    "pca = PCA(n_components=1)\n",
    "pca.fit(X)\n",
    "X_reduced = pca.transform(X)\n",
    "X_reduced.shape"
   ]
  },
  {
   "cell_type": "code",
   "execution_count": 68,
   "metadata": {},
   "outputs": [
    {
     "name": "stdout",
     "output_type": "stream",
     "text": [
      "Projecting 2-dimensional data to 1D\n"
     ]
    },
    {
     "data": {
      "image/png": "[encoded data removed]",
      "text/plain": [
       "<Figure size 864x720 with 1 Axes>"
      ]
     },
     "metadata": {
      "needs_background": "light"
     },
     "output_type": "display_data"
    }
   ],
   "source": [
    "print('Projecting %d-dimensional data to 1D' % X.shape[1])\n",
    "plt.figure(figsize=(12,10))\n",
    "\n",
    "plt.plot(X_reduced[:, 0])\n",
    "plt.title('PCA projection');"
   ]
  },
  {
   "cell_type": "code",
   "execution_count": 89,
   "metadata": {},
   "outputs": [
    {
     "data": {
      "text/plain": [
       "\u001b[1;31mType:\u001b[0m        list\n",
       "\u001b[1;31mString form:\u001b[0m [-0.9551311014671762, -0.7685107105542515, -0.7685107105542515, -0.37085499120705445, 0.653947072 <...> 326368437149958, -0.5201574874882844, 0.6175997428504019, -1.0898176482519444, 5.017744618554668]\n",
       "\u001b[1;31mLength:\u001b[0m      48282\n",
       "\u001b[1;31mDocstring:\u001b[0m  \n",
       "list() -> new empty list\n",
       "list(iterable) -> new list initialized from iterable's items\n"
      ]
     },
     "metadata": {},
     "output_type": "display_data"
    }
   ],
   "source": [
    "X_reduced = [x[0] for x in list(X_reduced)]"
   ]
  },
  {
   "cell_type": "code",
   "execution_count": 91,
   "metadata": {},
   "outputs": [],
   "source": []
  },
  {
   "cell_type": "code",
   "execution_count": 92,
   "metadata": {},
   "outputs": [],
   "source": [
    "zipped = zip(list(pos.keys()),X_reduced)\n",
    "sorted_x = sorted(zipped, key = lambda t: t[1], reverse=True)\n",
    "sorted_dict = collections.OrderedDict(sorted_x)"
   ]
  },
  {
   "cell_type": "code",
   "execution_count": 93,
   "metadata": {},
   "outputs": [],
   "source": [
    "tf_df = pd.read_excel('./out/kw_dp_term_frequency_total.xlsx')"
   ]
  },
  {
   "cell_type": "code",
   "execution_count": 94,
   "metadata": {},
   "outputs": [],
   "source": [
    "filter_dict = collections.OrderedDict()\n",
    "re_ = r\"^A |^THE |^THEIR |^ITS |^THIS |^AN |^SUCH A |^AS |^TO |^AND |^-PRON- |AT LEAST|USE THEREOF|^OR | THEREOF| THEREFOR| THERETO| THEREFROM| THEREBY\"\n",
    "for k, v in sorted_dict.items():\n",
    "    k = re.sub(re_, \"\", k.upper())\n",
    "    if  k.count(' ') < 4 and  k.count(' ') >= 1 and k.count('(') == 0 and k.count(')') == 0:\n",
    "        if True or k.upper() in tf_df['Unnamed: 0'].values:\n",
    "#             print(k.upper(),tf_df[tf_df['Unnamed: 0'] == k.upper()]['frequency'])\n",
    "            tf_s = tf_df[tf_df['Unnamed: 0'] == k.upper()]['frequency']\n",
    "            if not tf_s.empty and  tf_s.values[0] > 20:\n",
    "                filter_dict[k] = tf_s.values[0]\n",
    "filter_df = pd.DataFrame.from_dict(filter_dict, orient='index', columns=['score'])"
   ]
  },
  {
   "cell_type": "code",
   "execution_count": 96,
   "metadata": {},
   "outputs": [],
   "source": [
    "filter_df.to_excel('./out/kws_dp_GCN_top1_3_pca2.xlsx')"
   ]
  },
  {
   "cell_type": "code",
   "execution_count": 95,
   "metadata": {},
   "outputs": [
    {
     "data": {
      "text/html": [
       "<div>\n",
       "<style scoped>\n",
       "    .dataframe tbody tr th:only-of-type {\n",
       "        vertical-align: middle;\n",
       "    }\n",
       "\n",
       "    .dataframe tbody tr th {\n",
       "        vertical-align: top;\n",
       "    }\n",
       "\n",
       "    .dataframe thead th {\n",
       "        text-align: right;\n",
       "    }\n",
       "</style>\n",
       "<table border=\"1\" class=\"dataframe\">\n",
       "  <thead>\n",
       "    <tr style=\"text-align: right;\">\n",
       "      <th></th>\n",
       "      <th>score</th>\n",
       "    </tr>\n",
       "  </thead>\n",
       "  <tbody>\n",
       "    <tr>\n",
       "      <th>SECONDARY BATTERY</th>\n",
       "      <td>1132</td>\n",
       "    </tr>\n",
       "    <tr>\n",
       "      <th>LIGHT EMITTING DEVICE PACKAGE</th>\n",
       "      <td>75</td>\n",
       "    </tr>\n",
       "    <tr>\n",
       "      <th>ORGANIC THIN FILM</th>\n",
       "      <td>48</td>\n",
       "    </tr>\n",
       "    <tr>\n",
       "      <th>CURRENT SENSOR</th>\n",
       "      <td>21</td>\n",
       "    </tr>\n",
       "    <tr>\n",
       "      <th>CONTACT LENS</th>\n",
       "      <td>22</td>\n",
       "    </tr>\n",
       "    <tr>\n",
       "      <th>...</th>\n",
       "      <td>...</td>\n",
       "    </tr>\n",
       "    <tr>\n",
       "      <th>PHOTOVOLTAIC ELEMENT</th>\n",
       "      <td>30</td>\n",
       "    </tr>\n",
       "    <tr>\n",
       "      <th>OPTICAL FILTER</th>\n",
       "      <td>29</td>\n",
       "    </tr>\n",
       "    <tr>\n",
       "      <th>PRODUCING POLYMER</th>\n",
       "      <td>36</td>\n",
       "    </tr>\n",
       "    <tr>\n",
       "      <th>TRANSPARENT CONDUCTOR</th>\n",
       "      <td>22</td>\n",
       "    </tr>\n",
       "    <tr>\n",
       "      <th>UNDERLAYER FILM</th>\n",
       "      <td>39</td>\n",
       "    </tr>\n",
       "  </tbody>\n",
       "</table>\n",
       "<p>1059 rows × 1 columns</p>\n",
       "</div>"
      ],
      "text/plain": [
       "                               score\n",
       "SECONDARY BATTERY               1132\n",
       "LIGHT EMITTING DEVICE PACKAGE     75\n",
       "ORGANIC THIN FILM                 48\n",
       "CURRENT SENSOR                    21\n",
       "CONTACT LENS                      22\n",
       "...                              ...\n",
       "PHOTOVOLTAIC ELEMENT              30\n",
       "OPTICAL FILTER                    29\n",
       "PRODUCING POLYMER                 36\n",
       "TRANSPARENT CONDUCTOR             22\n",
       "UNDERLAYER FILM                   39\n",
       "\n",
       "[1059 rows x 1 columns]"
      ]
     },
     "execution_count": 95,
     "metadata": {},
     "output_type": "execute_result"
    }
   ],
   "source": [
    "filter_df"
   ]
  },
  {
   "cell_type": "code",
   "execution_count": 8,
   "metadata": {},
   "outputs": [
    {
     "data": {
      "text/plain": [
       "31253"
      ]
     },
     "execution_count": 8,
     "metadata": {},
     "output_type": "execute_result"
    }
   ],
   "source": [
    "nodes.index('SEMICONDUCTOR DEVICE')"
   ]
  },
  {
   "cell_type": "code",
   "execution_count": 122,
   "metadata": {},
   "outputs": [
    {
     "data": {
      "text/plain": [
       "1"
      ]
     },
     "execution_count": 122,
     "metadata": {},
     "output_type": "execute_result"
    }
   ],
   "source": [
    "tf_df[tf_df['Unnamed: 0'] == 'OPERATING HYDROGEN GENERATING APPARATUS']['frequency'].values[0]"
   ]
  },
  {
   "cell_type": "code",
   "execution_count": null,
   "metadata": {},
   "outputs": [],
   "source": []
  }
 ],
 "metadata": {
  "kernelspec": {
   "display_name": "dgl",
   "language": "python",
   "name": "dgl"
  },
  "language_info": {
   "codemirror_mode": {
    "name": "ipython",
    "version": 3
   },
   "file_extension": ".py",
   "mimetype": "text/x-python",
   "name": "python",
   "nbconvert_exporter": "python",
   "pygments_lexer": "ipython3",
   "version": "3.5.5"
  }
 },
 "nbformat": 4,
 "nbformat_minor": 4
}
