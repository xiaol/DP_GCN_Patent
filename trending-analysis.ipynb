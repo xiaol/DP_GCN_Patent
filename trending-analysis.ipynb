{
 "cells": [
  {
   "cell_type": "code",
   "execution_count": 1,
   "metadata": {},
   "outputs": [],
   "source": [
    "import pandas as pd\n",
    "import glob\n",
    "import swifter\n",
    "import numpy as np\n",
    "\n",
    "from bokeh.plotting import figure, show, output_file, save\n",
    "import statsmodels.api as sm\n",
    "\n",
    "import re\n",
    "import en_core_web_sm\n",
    "nlp = en_core_web_sm.load()\n",
    "from spacy.lemmatizer import Lemmatizer, ADJ, NOUN, VERB\n",
    "\n",
    "\n",
    "from nltk.stem import WordNetLemmatizer\n",
    "from tqdm.notebook import tqdm\n",
    "tqdm.pandas()"
   ]
  },
  {
   "cell_type": "code",
   "execution_count": 2,
   "metadata": {},
   "outputs": [],
   "source": [
    "def lcs(A,B):\n",
    "    res = 0 \n",
    "    R, C = len(A), len(B)\n",
    "    dp = [[0]*(C + 1) for i in range(R + 1)]\n",
    "    t = ()\n",
    "    for i in range(1, R + 1):\n",
    "        for j in range(1, C + 1):\n",
    "            if A[i - 1] == B[j - 1]:\n",
    "                dp[i][j] = dp[i - 1][j - 1] + 1\n",
    "            else: \n",
    "                dp[i][j] = 0\n",
    "            if res < dp[i][j]:\n",
    "                res = dp[i][j]\n",
    "                t = (i,j)\n",
    "            res = max(res, dp[i][j])\n",
    "    if res == 0:\n",
    "        return ''\n",
    "    return B[t[1]-dp[t[0]][t[1]]:t[1]]"
   ]
  },
  {
   "cell_type": "code",
   "execution_count": 3,
   "metadata": {},
   "outputs": [],
   "source": [
    "kws_tf = pd.read_excel('./in/kw_20Oct14.xls')"
   ]
  },
  {
   "cell_type": "code",
   "execution_count": 4,
   "metadata": {},
   "outputs": [],
   "source": [
    "kws_e = pd.read_excel('./in/materials_Keywords.xlsx',sheet_name=None)"
   ]
  },
  {
   "cell_type": "code",
   "execution_count": 5,
   "metadata": {},
   "outputs": [],
   "source": [
    "e1 = kws_e['关键词1（基于论文）'].iloc[:,0].apply(lambda x: x[:-1] if x.endswith('*') else x)"
   ]
  },
  {
   "cell_type": "code",
   "execution_count": 6,
   "metadata": {},
   "outputs": [],
   "source": [
    "e2 = kws_e['关键词2（基于新材料回顾与展望）'].iloc[:,3].apply(lambda x: x[:-1] if x.endswith('*') else x)"
   ]
  },
  {
   "cell_type": "code",
   "execution_count": 7,
   "metadata": {},
   "outputs": [],
   "source": [
    "ea = pd.concat([e1,e2]).to_frame(name='Extracted Keywords')"
   ]
  },
  {
   "cell_type": "code",
   "execution_count": 8,
   "metadata": {},
   "outputs": [],
   "source": [
    "kws_l = []\n",
    "kws_l.append(pd.read_excel('./out/kws_tfidf_marked.xlsx'))\n",
    "kws_l.append(pd.read_excel('./out/kws_textrank_marked.xlsx'))\n",
    "kws_l.append(pd.read_excel('./out/kws_dp_pagerank_marked.xlsx'))\n",
    "kws_l.append(pd.read_excel('./out/kws_dp_GCN_marked.xlsx'))\n",
    "kws_l.append(pd.read_excel('./out/kw_dp_term_frequency_marked.xlsx'))\n",
    "\n",
    "kws_ = pd.concat(kws_l)"
   ]
  },
  {
   "cell_type": "code",
   "execution_count": 9,
   "metadata": {},
   "outputs": [],
   "source": [
    "kws_.rename({'Unnamed: 0':'Extracted Keywords'},inplace=True,axis='columns')\n",
    "kws_ = kws_.drop_duplicates(subset=['Extracted Keywords'])\n",
    "kws_ = kws_.fillna(0)"
   ]
  },
  {
   "cell_type": "code",
   "execution_count": 10,
   "metadata": {},
   "outputs": [],
   "source": [
    "kws_ = pd.merge(kws_, kws_tf,  how='outer', on='Extracted Keywords').fillna(0)"
   ]
  },
  {
   "cell_type": "code",
   "execution_count": 11,
   "metadata": {},
   "outputs": [],
   "source": [
    "kws_t = kws_[kws_['label_f'] == 0]"
   ]
  },
  {
   "cell_type": "code",
   "execution_count": 12,
   "metadata": {},
   "outputs": [],
   "source": [
    "kws_t = kws_t[['Extracted Keywords','调用有道翻译','提取关键词（百度机器翻译）']]"
   ]
  },
  {
   "cell_type": "code",
   "execution_count": 13,
   "metadata": {},
   "outputs": [],
   "source": [
    "kws_t['stopwords'] =  kws_t['Extracted Keywords'].apply(lambda x:  (x.count('(') + x.count(')')) > 0)"
   ]
  },
  {
   "cell_type": "code",
   "execution_count": 14,
   "metadata": {},
   "outputs": [],
   "source": [
    "kws_t = kws_t[kws_t['stopwords'] == False]"
   ]
  },
  {
   "cell_type": "code",
   "execution_count": 15,
   "metadata": {},
   "outputs": [],
   "source": [
    "kws_t['wcount'] =  kws_t['Extracted Keywords'].apply(lambda x:  ((x.count(' ') > 0) & (x.count(' ') + x.count('-')< 4)) )"
   ]
  },
  {
   "cell_type": "code",
   "execution_count": 16,
   "metadata": {},
   "outputs": [],
   "source": [
    "kws_t = kws_t[kws_t['wcount'] == True]"
   ]
  },
  {
   "cell_type": "code",
   "execution_count": 17,
   "metadata": {},
   "outputs": [],
   "source": [
    "re_ = r\"^A |^THE |^THEIR |^ITS |^THIS |^AN |^SUCH A |^AS |^TO |^AND |^-PRON- |AT LEAST|USE THEREOF|^OR | THEREOF| THEREFOR| THERETO| THEREFROM| THEREBY\"\n",
    "re2 = r\"THAT|ONE|TWO|HAVING|HAVE|AS|WHICH|COMPRISING|SAID|IMPROVED|STARTING|TREATING|USING|FORM|1 RECEPTOR|NOVEL|THUS|OBTAINED|RELATED|SUCH|AT|PROCESSING|OTHER|NEW\"\n",
    "r = []\n",
    "for w in re2.split('|'):\n",
    "    r.append(r'\\b'+w+r'\\b')\n",
    "re2 = '|'.join(r)\n",
    "kws_t['stopwords2'] =  kws_t['Extracted Keywords'].apply(lambda x: (not re.match(re_, x)) & (not re.findall(re2, x)) )"
   ]
  },
  {
   "cell_type": "code",
   "execution_count": null,
   "metadata": {},
   "outputs": [],
   "source": []
  },
  {
   "cell_type": "code",
   "execution_count": null,
   "metadata": {},
   "outputs": [],
   "source": []
  },
  {
   "cell_type": "code",
   "execution_count": 18,
   "metadata": {},
   "outputs": [],
   "source": [
    "kws_t = kws_t[kws_t['stopwords2'] == True]"
   ]
  },
  {
   "cell_type": "code",
   "execution_count": 19,
   "metadata": {},
   "outputs": [],
   "source": [
    "kws_t = pd.concat([kws_t,ea]).fillna(0)"
   ]
  },
  {
   "cell_type": "code",
   "execution_count": 20,
   "metadata": {},
   "outputs": [],
   "source": [
    "kws_t['Extracted Keywords'] = kws_t['Extracted Keywords'].str.upper().str.strip()\n",
    "kws_t = kws_t.drop_duplicates(subset=['Extracted Keywords'])"
   ]
  },
  {
   "cell_type": "code",
   "execution_count": 21,
   "metadata": {},
   "outputs": [],
   "source": [
    "\n",
    "# lemmatizer = nlp.vocab.morphology.lemmatizer\n",
    "# # lemmatizer('PLASTIC LENS', NOUN)\n",
    "# kws_t['Extracted Keywords'] = kws_t['Extracted Keywords'].apply(lambda x: lemmatizer(x,NOUN)[0].upper())\n",
    "# kws_t = kws_t.drop_duplicates(subset=['Extracted Keywords'])"
   ]
  },
  {
   "cell_type": "code",
   "execution_count": null,
   "metadata": {},
   "outputs": [],
   "source": []
  },
  {
   "cell_type": "code",
   "execution_count": 22,
   "metadata": {},
   "outputs": [],
   "source": [
    "p = kws_t\n",
    "p.to_excel('./out/kws_total.xlsx')"
   ]
  },
  {
   "cell_type": "code",
   "execution_count": 23,
   "metadata": {},
   "outputs": [],
   "source": [
    "files = glob.glob('./incoPat_225509/*.xls')\n",
    "\n",
    "dfs = []\n",
    "for f in files:\n",
    "    try:\n",
    "        dfs.append(pd.read_excel(f))\n",
    "    except Exception as e:\n",
    "        print(\"{0}: {1}\".format(f, e))\n",
    "\n",
    "df = pd.concat(dfs)"
   ]
  },
  {
   "cell_type": "code",
   "execution_count": 24,
   "metadata": {},
   "outputs": [],
   "source": [
    "df = df.reset_index(drop=True)"
   ]
  },
  {
   "cell_type": "code",
   "execution_count": 25,
   "metadata": {},
   "outputs": [],
   "source": [
    "#df.columns"
   ]
  },
  {
   "cell_type": "code",
   "execution_count": 26,
   "metadata": {},
   "outputs": [],
   "source": [
    "df['申请人国别代码'] = df['申请人国别代码'].apply([lambda x: x.str.split(', ')])"
   ]
  },
  {
   "cell_type": "code",
   "execution_count": 27,
   "metadata": {},
   "outputs": [],
   "source": [
    "df = df.explode('申请人国别代码')"
   ]
  },
  {
   "cell_type": "code",
   "execution_count": 28,
   "metadata": {},
   "outputs": [],
   "source": [
    "country_list = ['中国','美国','日本','欧盟']\n",
    "europe_alies = ['奥利地','比利时','保加利亚','塞浦路斯','克罗地亚','捷克','丹麦','爱沙尼亚','芬兰','法国','德国','希腊','匈牙利','爱尔兰','意大利','拉脱维亚','立陶宛','卢森堡','马耳他','荷兰','波兰','葡萄牙','罗马尼亚','斯洛伐克','斯洛文尼亚','西班牙','瑞典']"
   ]
  },
  {
   "cell_type": "code",
   "execution_count": 29,
   "metadata": {},
   "outputs": [],
   "source": [
    "df.loc[df['申请人国别代码'].isin(europe_alies), '申请人国别代码'] = '欧盟'"
   ]
  },
  {
   "cell_type": "code",
   "execution_count": 30,
   "metadata": {},
   "outputs": [],
   "source": [
    "# df[~df['申请人国别代码'].isin(['欧盟'])]"
   ]
  },
  {
   "cell_type": "code",
   "execution_count": 31,
   "metadata": {},
   "outputs": [],
   "source": [
    "df['date'] = pd.to_datetime(df[' 最早公开（公告）日'])\n",
    "df.index = df['date']"
   ]
  },
  {
   "cell_type": "code",
   "execution_count": 32,
   "metadata": {},
   "outputs": [],
   "source": [
    "df_agg = df.groupby(by=[df.index.year,df['申请人国别代码']]).agg({'摘要(英)': '.'.join,'标题(英)': '.'.join})"
   ]
  },
  {
   "cell_type": "code",
   "execution_count": 33,
   "metadata": {},
   "outputs": [],
   "source": [
    "df_agg = df_agg.apply(lambda x: x.str.upper())"
   ]
  },
  {
   "cell_type": "markdown",
   "metadata": {},
   "source": [
    "## 最大相似子串，寻找同义词"
   ]
  },
  {
   "cell_type": "code",
   "execution_count": 118,
   "metadata": {},
   "outputs": [],
   "source": [
    "synonym  = {} \n",
    "for i in range(kws_t['Extracted Keywords'].count()):\n",
    "    for j in range(i+1,kws_t['Extracted Keywords'].count()):\n",
    "        l = lcs(kws_t['Extracted Keywords'].values[i], kws_t['Extracted Keywords'].values[j])\n",
    "        al = len(kws_t['Extracted Keywords'].values[i])\n",
    "        bl = len(kws_t['Extracted Keywords'].values[j])\n",
    "        if (len(l) > al*0.8) or (len(l) > bl*0.8):\n",
    "            if kws_t['Extracted Keywords'].values[i] not in synonym:\n",
    "                 synonym[kws_t['Extracted Keywords'].values[i]] = [kws_t['Extracted Keywords'].values[j]]\n",
    "            else:\n",
    "                 synonym[kws_t['Extracted Keywords'].values[i]].append(kws_t['Extracted Keywords'].values[j])"
   ]
  },
  {
   "cell_type": "code",
   "execution_count": null,
   "metadata": {},
   "outputs": [],
   "source": [
    "synonym"
   ]
  },
  {
   "cell_type": "code",
   "execution_count": 119,
   "metadata": {},
   "outputs": [],
   "source": [
    "s_df = pd.DataFrame.from_dict(synonym, orient='index')"
   ]
  },
  {
   "cell_type": "code",
   "execution_count": 533,
   "metadata": {},
   "outputs": [],
   "source": [
    "s_df.to_excel('./out/synonym.xlsx')"
   ]
  },
  {
   "cell_type": "markdown",
   "metadata": {},
   "source": [
    "## end"
   ]
  },
  {
   "cell_type": "code",
   "execution_count": 34,
   "metadata": {},
   "outputs": [
    {
     "data": {
      "application/vnd.jupyter.widget-view+json": {
       "model_id": "8762f34ea3174fc2876d7b94940919d0",
       "version_major": 2,
       "version_minor": 0
      },
      "text/plain": [
       "HBox(children=(HTML(value=''), FloatProgress(value=0.0, max=6259.0), HTML(value='')))"
      ]
     },
     "metadata": {},
     "output_type": "display_data"
    },
    {
     "name": "stdout",
     "output_type": "stream",
     "text": [
      "\n"
     ]
    }
   ],
   "source": [
    "for k in tqdm(kws_t['Extracted Keywords']):\n",
    "    df_agg[k] = df_agg.swifter.progress_bar(enable=False).apply(lambda row:  sum(1 for _ in re.finditer(r'\\b%s\\b' % re.escape(k), ' '.join([row['摘要(英)'],row['标题(英)']]))), axis=1)"
   ]
  },
  {
   "cell_type": "code",
   "execution_count": 35,
   "metadata": {},
   "outputs": [],
   "source": [
    "# sum(1 for _ in re.finditer(r'\\b%s\\b' % re.escape('ENERGY STORAGE'), 'ENERGY STORAGE DEVICE')) "
   ]
  },
  {
   "cell_type": "code",
   "execution_count": 36,
   "metadata": {},
   "outputs": [],
   "source": [
    "# y = df_agg.sum()[2:]"
   ]
  },
  {
   "cell_type": "code",
   "execution_count": 37,
   "metadata": {},
   "outputs": [],
   "source": [
    "# y['POLYMER']"
   ]
  },
  {
   "cell_type": "markdown",
   "metadata": {},
   "source": [
    "### 同义词替换"
   ]
  },
  {
   "cell_type": "code",
   "execution_count": 38,
   "metadata": {},
   "outputs": [],
   "source": [
    "synonym_marked_df = pd.read_excel('./in/synonym_201123.xlsx')\n",
    "synonym_marked_df = synonym_marked_df.applymap(lambda s:s.upper() if type(s) == str else s)\n",
    "synonym_marked_df = synonym_marked_df[synonym_marked_df['TRUE=1'] == 1]"
   ]
  },
  {
   "cell_type": "code",
   "execution_count": 39,
   "metadata": {},
   "outputs": [],
   "source": [
    "# df_agg = df_agg.drop(columns=['e'])"
   ]
  },
  {
   "cell_type": "code",
   "execution_count": 40,
   "metadata": {},
   "outputs": [],
   "source": [
    "# [ {k:v for k,v in m.items() if pd.notnull(v)} for m in synonym_marked_df.set_index('KW group').T.to_dict('list')]\n",
    "st = synonym_marked_df.set_index('KW group').T\n",
    "# {col:st[col].dropna().to_list() for col in st}\n",
    "sd = {}\n",
    "for col in st:\n",
    "    dl,al = [],[]\n",
    "    if  pd.notnull(st.loc['Delete'][col]):\n",
    "        dl = list(filter(None, st.loc['Delete'][col].split(',')))\n",
    "        dl = [x.strip() for x in dl]\n",
    "    if  pd.notnull(st.loc['Add'][col]):\n",
    "        al = list(filter(None, st.loc['Add'][col].split(',')))\n",
    "        al = [x.strip() for x in al]\n",
    "    sl = st[~st.index.isin(['Delete','TRUE=1',1,'updated KW group','Add'])][col].dropna().to_list()\n",
    "    sl = [x.strip() for x in sl]\n",
    "    if pd.notnull(st.loc['updated KW group'][col]):\n",
    "        sd[st.loc['updated KW group'][col]] = [item for item in sl if item not in dl] + al+[col]\n",
    "    else:\n",
    "        sd[col] = [item for item in sl if item not in dl] + al\n",
    "    #TODO updated kw group会有重复字段\n",
    "    "
   ]
  },
  {
   "cell_type": "code",
   "execution_count": null,
   "metadata": {},
   "outputs": [],
   "source": []
  },
  {
   "cell_type": "code",
   "execution_count": 41,
   "metadata": {},
   "outputs": [],
   "source": [
    "# df_abak = None\n",
    "df_w = df_agg.copy()"
   ]
  },
  {
   "cell_type": "code",
   "execution_count": 42,
   "metadata": {},
   "outputs": [],
   "source": [
    "for k,v in sd.items():\n",
    "    try:\n",
    "        c = v.copy()\n",
    "        if k in df_w.columns.to_list():\n",
    "            c.append(k)\n",
    "        key_list,sub_list = [],[]      \n",
    "        for ci in range(len(c)):\n",
    "            for cj in range(ci+1,len(c)):\n",
    "                rel = sum(1 for _ in re.finditer(r'\\b%s\\b' % re.escape(c[ci]), c[cj]))  + sum(1 for _ in re.finditer(r'\\b%s\\b' % re.escape(c[cj]), c[ci])) \n",
    "                if rel > 0:\n",
    "                    if c[ci] in key_list:\n",
    "                        if c[cj] not in key_list:\n",
    "                            key_list.append(c[cj])\n",
    "                        for sub in sub_list:\n",
    "                            if c[ci] in sub:\n",
    "                                if c[cj] not in sub:\n",
    "                                    sub.append(c[cj])\n",
    "                    else:\n",
    "                        key_list.append(c[ci])\n",
    "                        if c[cj] not in key_list:\n",
    "                            key_list.append(c[cj])\n",
    "                            sub_list.append([c[ci], c[cj]])\n",
    "                        else:\n",
    "                            for sub in sub_list:\n",
    "                                if c[cj] in sub:\n",
    "                                    if c[ci] not in sub:\n",
    "                                        sub.append(c[ci])\n",
    "\n",
    "#         if sub_list:\n",
    "#             print(sub_list)\n",
    "        x = []\n",
    "        for sub in sub_list:\n",
    "            lcount,li = 10000, -1\n",
    "            for su in range(len(sub)):\n",
    "                if len(sub[su]) < lcount:\n",
    "                    lcount = len(sub[su])\n",
    "                    li = su\n",
    "            x = list(set(c)- set(sub)) + [sub[li]] +x\n",
    "        if not x:\n",
    "            df_w[k]= df_w[c].sum(axis=1)\n",
    "        else:\n",
    "            df_w[k] =  df_w[x].sum(axis=1)\n",
    "       \n",
    "   \n",
    "    except KeyError:\n",
    "        continue\n",
    "# for k,v in sd.items():\n",
    "#     for i in v:\n",
    "#         if i in df_w.columns:\n",
    "#             df_w = df_w.drop(columns=[i])\n",
    "#df_agg\n",
    "#st[~st.index.isin(['Delete','TRUE=1',1,'updated KW group','Add'])]"
   ]
  },
  {
   "cell_type": "code",
   "execution_count": 115,
   "metadata": {},
   "outputs": [
    {
     "data": {
      "text/plain": [
       "['LITHIUM IRON',\n",
       " 'LITHIUM ION BATTERY',\n",
       " 'LITHIUM ION SECONDARY BATTERY',\n",
       " 'LITHIUM ION CONDUCTIVE',\n",
       " 'LITHIUM ION SECONDARY BATTERIES',\n",
       " 'LITHIUM ION CAPACITOR',\n",
       " 'LITHIUM ION CELL',\n",
       " 'LITHIUM ION BATTERIES',\n",
       " 'LITHIUM ION SECONDARY CELL',\n",
       " 'LITHIUM ION BATTER',\n",
       " 'LITHIUM ION']"
      ]
     },
     "execution_count": 115,
     "metadata": {},
     "output_type": "execute_result"
    }
   ],
   "source": [
    "# sd['LI-ION BATTERY/CAPACITOR']"
   ]
  },
  {
   "cell_type": "code",
   "execution_count": null,
   "metadata": {},
   "outputs": [],
   "source": []
  },
  {
   "cell_type": "markdown",
   "metadata": {},
   "source": [
    "### end"
   ]
  },
  {
   "cell_type": "code",
   "execution_count": 1011,
   "metadata": {},
   "outputs": [],
   "source": [
    "# df_w.T.loc[:, df_w.T.columns.get_level_values(1).isin(europe_alies)].sum(axis=1,level=0)"
   ]
  },
  {
   "cell_type": "code",
   "execution_count": 43,
   "metadata": {},
   "outputs": [],
   "source": [
    "p = df_w.sum()[2:]"
   ]
  },
  {
   "cell_type": "code",
   "execution_count": 44,
   "metadata": {},
   "outputs": [],
   "source": [
    "p = p.sort_values(ascending=False)"
   ]
  },
  {
   "cell_type": "code",
   "execution_count": 45,
   "metadata": {},
   "outputs": [],
   "source": [
    "# synonym_marked_df\n",
    "df_c = df_w[df_w.index.isin(country_list, level=1)].groupby(level=1).sum()\n",
    "df_c = df_c.reindex(columns=p.index.to_list())\n",
    "df_c.T.to_excel('./out/kws_total_count_country.xlsx')"
   ]
  },
  {
   "cell_type": "code",
   "execution_count": 46,
   "metadata": {},
   "outputs": [],
   "source": [
    "p.to_excel('./out/kws_total_count.xlsx')"
   ]
  },
  {
   "cell_type": "code",
   "execution_count": 47,
   "metadata": {},
   "outputs": [
    {
     "data": {
      "text/plain": [
       "POLYMER                               202082\n",
       "METAL                                 105386\n",
       "SYNTHETIC POLYMER                     100566\n",
       "SILICON                                72966\n",
       "CARBON NANOTUBE                        71845\n",
       "                                       ...  \n",
       "ON - INSULATOR                             0\n",
       "COOL APPARATUS                             0\n",
       "ZIRCONIA SINTER                            0\n",
       "MODIFIED CONJUGATE DIENE RUBBER            0\n",
       "HYDROXYMETHYLANDROSTANE DERIVATIVE         0\n",
       "Length: 6270, dtype: object"
      ]
     },
     "execution_count": 47,
     "metadata": {},
     "output_type": "execute_result"
    }
   ],
   "source": [
    "p"
   ]
  },
  {
   "cell_type": "code",
   "execution_count": 48,
   "metadata": {},
   "outputs": [],
   "source": [
    "mask = ( p >=20)\n",
    "pf = pd.Series(p.values[mask], p.index[mask])"
   ]
  },
  {
   "cell_type": "code",
   "execution_count": 49,
   "metadata": {},
   "outputs": [
    {
     "data": {
      "text/plain": [
       "POLYMER                          202082\n",
       "METAL                            105386\n",
       "SYNTHETIC POLYMER                100566\n",
       "SILICON                           72966\n",
       "CARBON NANOTUBE                   71845\n",
       "                                  ...  \n",
       "BATTERY MEMBER                       20\n",
       "STACKED SEMICONDUCTOR DEVICES        20\n",
       "CELLULAR PROTEIN                     20\n",
       "PRODUCE POLYMER                      20\n",
       "ULTRASONIC TRANSDUCER DEVICE         20\n",
       "Length: 4698, dtype: object"
      ]
     },
     "execution_count": 49,
     "metadata": {},
     "output_type": "execute_result"
    }
   ],
   "source": [
    "# df_agg[df_agg.index.isin(['中国'], level=1)]\n",
    "pf"
   ]
  },
  {
   "cell_type": "code",
   "execution_count": 50,
   "metadata": {},
   "outputs": [
    {
     "name": "stderr",
     "output_type": "stream",
     "text": [
      "C:\\Users\\liuxi\\scoop\\apps\\anaconda3\\2020.07\\envs\\py37\\lib\\site-packages\\statsmodels\\genmod\\families\\family.py:428: RuntimeWarning: invalid value encountered in true_divide\n",
      "  endog_mu = self._clean(endog / mu)\n"
     ]
    }
   ],
   "source": [
    "coefs = pd.DataFrame()\n",
    "colormap = {0: 'blue', 1: 'red', 2: 'green', 3: 'brown'}\n",
    "df_y = df_w.groupby(level=0).sum()\n",
    "\n",
    "\n",
    "for k,v in pf.items():\n",
    "    \n",
    "#     reg = linear_model.LinearRegression(fit_intercept=True)\n",
    "    f = figure()   \n",
    "    \n",
    "    date = df_y.index\n",
    "    X = np.array(date)\n",
    "    X = sm.add_constant(X)\n",
    "\n",
    "    glm_poisson = sm.GLM(df_y[k], X, family=sm.families.Poisson())\n",
    "    poisson_result = glm_poisson.fit()\n",
    "\n",
    "    # Evaluate the model on the given x\n",
    "    y_pred = poisson_result.predict(X)\n",
    "    row_dict = {'总体':poisson_result.params[1],'freq':v}\n",
    "    \n",
    "    if False:\n",
    "        f.circle(date, df_y[k], legend_label=k,color='purple')\n",
    "        f.line(date, y_pred, legend_label='总体', color='purple')\n",
    "    \n",
    "    for country in country_list:\n",
    "        \n",
    "        try:\n",
    "        \n",
    "            date = df_w[df_w.index.isin([country], level=1)].index.get_level_values('date')\n",
    "            X = np.array(date)\n",
    "            X = sm.add_constant(X)\n",
    "\n",
    "            glm_poisson = sm.GLM( df_w[df_w.index.isin([country], level=1)][k], X, family=sm.families.Poisson())\n",
    "            poisson_result = glm_poisson.fit()\n",
    "\n",
    "            # Evaluate the model on the given x\n",
    "            y_pred = poisson_result.predict(X)\n",
    "\n",
    "\n",
    "            # Plot comparison\n",
    "\n",
    "            if False:\n",
    "                f.circle(date, df_w[df_w.index.isin([country], level=1)][k], legend_label=k,color= colormap[country_list.index(country)])\n",
    "                f.line(date, y_pred, legend_label=country, color=colormap[country_list.index(country)])\n",
    "        #output_file(\"./patent_analysis_poisson/{}_{}.html\".format(kw, poisson_result.params[1]))\n",
    "    #     save(f, filename=\"./out/trending_poisson/{}_{}.html\".format(k, poisson_result.params[1]))\n",
    "\n",
    "        #print(reg.coef_)\n",
    "    #         coefs.append(((k,country), poisson_result.params[1]))\n",
    "            row_dict[country] = poisson_result.params[1]\n",
    "        except ValueError:\n",
    "            row_dict[country] = 0\n",
    "        \n",
    "        row_dict[country+'_freq'] = df_c[k][df_c[k].index.isin([country])][0]\n",
    "\n",
    "        \n",
    "    coefs = coefs.append(pd.Series(row_dict, name=k))\n",
    "    if False:\n",
    "        show(f)\n",
    "#     break\n"
   ]
  },
  {
   "cell_type": "code",
   "execution_count": 51,
   "metadata": {},
   "outputs": [],
   "source": [
    "coefs.to_excel('./out/poisson_coefs.xlsx')"
   ]
  },
  {
   "cell_type": "code",
   "execution_count": 9,
   "metadata": {},
   "outputs": [],
   "source": [
    "coefs = pd.read_excel('./out/poisson_coefs.xlsx',index_col=0)"
   ]
  },
  {
   "cell_type": "code",
   "execution_count": 10,
   "metadata": {},
   "outputs": [],
   "source": [
    "res_df = coefs.reset_index()\n",
    "res_df = res_df.rename(columns = {'index':'Keywords'})"
   ]
  },
  {
   "cell_type": "code",
   "execution_count": 11,
   "metadata": {},
   "outputs": [
    {
     "data": {
      "text/html": [
       "<div>\n",
       "<style scoped>\n",
       "    .dataframe tbody tr th:only-of-type {\n",
       "        vertical-align: middle;\n",
       "    }\n",
       "\n",
       "    .dataframe tbody tr th {\n",
       "        vertical-align: top;\n",
       "    }\n",
       "\n",
       "    .dataframe thead th {\n",
       "        text-align: right;\n",
       "    }\n",
       "</style>\n",
       "<table border=\"1\" class=\"dataframe\">\n",
       "  <thead>\n",
       "    <tr style=\"text-align: right;\">\n",
       "      <th></th>\n",
       "      <th>Keywords</th>\n",
       "      <th>freq</th>\n",
       "      <th>中国</th>\n",
       "      <th>中国_freq</th>\n",
       "      <th>总体</th>\n",
       "      <th>日本</th>\n",
       "      <th>日本_freq</th>\n",
       "      <th>欧盟</th>\n",
       "      <th>欧盟_freq</th>\n",
       "      <th>美国</th>\n",
       "      <th>美国_freq</th>\n",
       "    </tr>\n",
       "  </thead>\n",
       "  <tbody>\n",
       "    <tr>\n",
       "      <th>0</th>\n",
       "      <td>POLYMER</td>\n",
       "      <td>202082</td>\n",
       "      <td>0.119098</td>\n",
       "      <td>3200</td>\n",
       "      <td>0.096080</td>\n",
       "      <td>0.095963</td>\n",
       "      <td>47542</td>\n",
       "      <td>0.090502</td>\n",
       "      <td>39120</td>\n",
       "      <td>0.093172</td>\n",
       "      <td>49914</td>\n",
       "    </tr>\n",
       "    <tr>\n",
       "      <th>1</th>\n",
       "      <td>METAL</td>\n",
       "      <td>105386</td>\n",
       "      <td>0.124188</td>\n",
       "      <td>2348</td>\n",
       "      <td>0.095085</td>\n",
       "      <td>0.098949</td>\n",
       "      <td>29406</td>\n",
       "      <td>0.088143</td>\n",
       "      <td>20006</td>\n",
       "      <td>0.089206</td>\n",
       "      <td>21932</td>\n",
       "    </tr>\n",
       "    <tr>\n",
       "      <th>2</th>\n",
       "      <td>SYNTHETIC POLYMER</td>\n",
       "      <td>100566</td>\n",
       "      <td>0.119043</td>\n",
       "      <td>1586</td>\n",
       "      <td>0.095913</td>\n",
       "      <td>0.095904</td>\n",
       "      <td>23663</td>\n",
       "      <td>0.090373</td>\n",
       "      <td>19464</td>\n",
       "      <td>0.093011</td>\n",
       "      <td>24847</td>\n",
       "    </tr>\n",
       "    <tr>\n",
       "      <th>3</th>\n",
       "      <td>SILICON</td>\n",
       "      <td>72966</td>\n",
       "      <td>0.127263</td>\n",
       "      <td>1879</td>\n",
       "      <td>0.090147</td>\n",
       "      <td>0.090334</td>\n",
       "      <td>25028</td>\n",
       "      <td>0.085954</td>\n",
       "      <td>12597</td>\n",
       "      <td>0.082742</td>\n",
       "      <td>17570</td>\n",
       "    </tr>\n",
       "    <tr>\n",
       "      <th>4</th>\n",
       "      <td>CARBON NANOTUBE</td>\n",
       "      <td>71845</td>\n",
       "      <td>0.113703</td>\n",
       "      <td>1305</td>\n",
       "      <td>0.093500</td>\n",
       "      <td>0.101820</td>\n",
       "      <td>23799</td>\n",
       "      <td>0.083835</td>\n",
       "      <td>12138</td>\n",
       "      <td>0.088301</td>\n",
       "      <td>13973</td>\n",
       "    </tr>\n",
       "    <tr>\n",
       "      <th>...</th>\n",
       "      <td>...</td>\n",
       "      <td>...</td>\n",
       "      <td>...</td>\n",
       "      <td>...</td>\n",
       "      <td>...</td>\n",
       "      <td>...</td>\n",
       "      <td>...</td>\n",
       "      <td>...</td>\n",
       "      <td>...</td>\n",
       "      <td>...</td>\n",
       "      <td>...</td>\n",
       "    </tr>\n",
       "    <tr>\n",
       "      <th>4693</th>\n",
       "      <td>BATTERY MEMBER</td>\n",
       "      <td>20</td>\n",
       "      <td>0.000000</td>\n",
       "      <td>0</td>\n",
       "      <td>0.245065</td>\n",
       "      <td>0.255888</td>\n",
       "      <td>14</td>\n",
       "      <td>0.000000</td>\n",
       "      <td>0</td>\n",
       "      <td>0.000000</td>\n",
       "      <td>0</td>\n",
       "    </tr>\n",
       "    <tr>\n",
       "      <th>4694</th>\n",
       "      <td>STACKED SEMICONDUCTOR DEVICES</td>\n",
       "      <td>20</td>\n",
       "      <td>0.151033</td>\n",
       "      <td>2</td>\n",
       "      <td>0.101484</td>\n",
       "      <td>0.000000</td>\n",
       "      <td>0</td>\n",
       "      <td>0.069724</td>\n",
       "      <td>1</td>\n",
       "      <td>0.091872</td>\n",
       "      <td>11</td>\n",
       "    </tr>\n",
       "    <tr>\n",
       "      <th>4695</th>\n",
       "      <td>CELLULAR PROTEIN</td>\n",
       "      <td>20</td>\n",
       "      <td>0.043045</td>\n",
       "      <td>1</td>\n",
       "      <td>0.046141</td>\n",
       "      <td>0.051767</td>\n",
       "      <td>1</td>\n",
       "      <td>0.088675</td>\n",
       "      <td>2</td>\n",
       "      <td>0.045725</td>\n",
       "      <td>10</td>\n",
       "    </tr>\n",
       "    <tr>\n",
       "      <th>4696</th>\n",
       "      <td>PRODUCE POLYMER</td>\n",
       "      <td>20</td>\n",
       "      <td>0.000000</td>\n",
       "      <td>0</td>\n",
       "      <td>0.114630</td>\n",
       "      <td>0.000000</td>\n",
       "      <td>0</td>\n",
       "      <td>0.120299</td>\n",
       "      <td>8</td>\n",
       "      <td>0.112521</td>\n",
       "      <td>8</td>\n",
       "    </tr>\n",
       "    <tr>\n",
       "      <th>4697</th>\n",
       "      <td>ULTRASONIC TRANSDUCER DEVICE</td>\n",
       "      <td>20</td>\n",
       "      <td>0.000000</td>\n",
       "      <td>0</td>\n",
       "      <td>0.150651</td>\n",
       "      <td>0.138579</td>\n",
       "      <td>16</td>\n",
       "      <td>0.223019</td>\n",
       "      <td>2</td>\n",
       "      <td>0.000000</td>\n",
       "      <td>0</td>\n",
       "    </tr>\n",
       "  </tbody>\n",
       "</table>\n",
       "<p>4698 rows × 11 columns</p>\n",
       "</div>"
      ],
      "text/plain": [
       "                           Keywords    freq        中国  中国_freq        总体  \\\n",
       "0                           POLYMER  202082  0.119098     3200  0.096080   \n",
       "1                             METAL  105386  0.124188     2348  0.095085   \n",
       "2                 SYNTHETIC POLYMER  100566  0.119043     1586  0.095913   \n",
       "3                           SILICON   72966  0.127263     1879  0.090147   \n",
       "4                   CARBON NANOTUBE   71845  0.113703     1305  0.093500   \n",
       "...                             ...     ...       ...      ...       ...   \n",
       "4693                 BATTERY MEMBER      20  0.000000        0  0.245065   \n",
       "4694  STACKED SEMICONDUCTOR DEVICES      20  0.151033        2  0.101484   \n",
       "4695               CELLULAR PROTEIN      20  0.043045        1  0.046141   \n",
       "4696                PRODUCE POLYMER      20  0.000000        0  0.114630   \n",
       "4697   ULTRASONIC TRANSDUCER DEVICE      20  0.000000        0  0.150651   \n",
       "\n",
       "            日本  日本_freq        欧盟  欧盟_freq        美国  美国_freq  \n",
       "0     0.095963    47542  0.090502    39120  0.093172    49914  \n",
       "1     0.098949    29406  0.088143    20006  0.089206    21932  \n",
       "2     0.095904    23663  0.090373    19464  0.093011    24847  \n",
       "3     0.090334    25028  0.085954    12597  0.082742    17570  \n",
       "4     0.101820    23799  0.083835    12138  0.088301    13973  \n",
       "...        ...      ...       ...      ...       ...      ...  \n",
       "4693  0.255888       14  0.000000        0  0.000000        0  \n",
       "4694  0.000000        0  0.069724        1  0.091872       11  \n",
       "4695  0.051767        1  0.088675        2  0.045725       10  \n",
       "4696  0.000000        0  0.120299        8  0.112521        8  \n",
       "4697  0.138579       16  0.223019        2  0.000000        0  \n",
       "\n",
       "[4698 rows x 11 columns]"
      ]
     },
     "execution_count": 11,
     "metadata": {},
     "output_type": "execute_result"
    }
   ],
   "source": [
    "res_df"
   ]
  },
  {
   "cell_type": "code",
   "execution_count": 12,
   "metadata": {},
   "outputs": [],
   "source": [
    "\n",
    "wnl = WordNetLemmatizer()\n",
    "coefs.index.to_series().apply(lambda x: ' '.join([wnl.lemmatize(e.lower()).upper() for  e in x.split()])).drop_duplicates().head(2000).to_excel('./out/top2000.xlsx')\n",
    "# kws_t = kws_t.drop_duplicates(subset=['Extracted Keywords'])"
   ]
  },
  {
   "cell_type": "code",
   "execution_count": 13,
   "metadata": {},
   "outputs": [],
   "source": [
    "res_df['Keywords'] = res_df['Keywords'].apply(lambda x: ' '.join([wnl.lemmatize(e.lower()).upper() for  e in x.split()]))\n",
    "res_df = res_df[~res_df['Keywords'].duplicated()]"
   ]
  },
  {
   "cell_type": "code",
   "execution_count": 56,
   "metadata": {},
   "outputs": [],
   "source": [
    "# 'lighting devices'.split()\n",
    "# lemmatizer = nlp.vocab.morphology.lemmatizer\n",
    "# lemmatizer('synthesis', NOUN)"
   ]
  },
  {
   "cell_type": "code",
   "execution_count": 14,
   "metadata": {},
   "outputs": [],
   "source": [
    "df_km = pd.read_excel('./in/kws_total_top2000_2020.11.29.xlsx')"
   ]
  },
  {
   "cell_type": "code",
   "execution_count": 15,
   "metadata": {},
   "outputs": [
    {
     "data": {
      "text/html": [
       "<div>\n",
       "<style scoped>\n",
       "    .dataframe tbody tr th:only-of-type {\n",
       "        vertical-align: middle;\n",
       "    }\n",
       "\n",
       "    .dataframe tbody tr th {\n",
       "        vertical-align: top;\n",
       "    }\n",
       "\n",
       "    .dataframe thead th {\n",
       "        text-align: right;\n",
       "    }\n",
       "</style>\n",
       "<table border=\"1\" class=\"dataframe\">\n",
       "  <thead>\n",
       "    <tr style=\"text-align: right;\">\n",
       "      <th></th>\n",
       "      <th>序号</th>\n",
       "      <th>Keywords</th>\n",
       "      <th>Keywords（词根还原）</th>\n",
       "      <th>调用有道翻译</th>\n",
       "      <th>人工修正（False=1）</th>\n",
       "      <th>合并</th>\n",
       "      <th>词根修正</th>\n",
       "    </tr>\n",
       "  </thead>\n",
       "  <tbody>\n",
       "    <tr>\n",
       "      <th>0</th>\n",
       "      <td>2</td>\n",
       "      <td>SYNTHETIC POLYMER</td>\n",
       "      <td>SYNTHETIC POLYMER</td>\n",
       "      <td>合成聚合物</td>\n",
       "      <td>合成聚合物</td>\n",
       "      <td>NaN</td>\n",
       "      <td>NaN</td>\n",
       "    </tr>\n",
       "    <tr>\n",
       "      <th>1</th>\n",
       "      <td>3</td>\n",
       "      <td>CARBON NANOTUBE</td>\n",
       "      <td>CARBON NANOTUBE</td>\n",
       "      <td>碳纳米管</td>\n",
       "      <td>碳纳米管</td>\n",
       "      <td>NaN</td>\n",
       "      <td>NaN</td>\n",
       "    </tr>\n",
       "    <tr>\n",
       "      <th>2</th>\n",
       "      <td>4</td>\n",
       "      <td>AROMATIC HYDROCARBON</td>\n",
       "      <td>AROMATIC HYDROCARBON</td>\n",
       "      <td>芳族烃</td>\n",
       "      <td>芳族烃</td>\n",
       "      <td>NaN</td>\n",
       "      <td>NaN</td>\n",
       "    </tr>\n",
       "    <tr>\n",
       "      <th>3</th>\n",
       "      <td>5</td>\n",
       "      <td>CARBON MATERIAL</td>\n",
       "      <td>CARBON MATERIAL</td>\n",
       "      <td>碳材料</td>\n",
       "      <td>碳材料</td>\n",
       "      <td>NaN</td>\n",
       "      <td>NaN</td>\n",
       "    </tr>\n",
       "    <tr>\n",
       "      <th>4</th>\n",
       "      <td>6</td>\n",
       "      <td>HYDROGEN</td>\n",
       "      <td>HYDROGEN</td>\n",
       "      <td>氢</td>\n",
       "      <td>氢</td>\n",
       "      <td>NaN</td>\n",
       "      <td>NaN</td>\n",
       "    </tr>\n",
       "    <tr>\n",
       "      <th>...</th>\n",
       "      <td>...</td>\n",
       "      <td>...</td>\n",
       "      <td>...</td>\n",
       "      <td>...</td>\n",
       "      <td>...</td>\n",
       "      <td>...</td>\n",
       "      <td>...</td>\n",
       "    </tr>\n",
       "    <tr>\n",
       "      <th>1994</th>\n",
       "      <td>1996</td>\n",
       "      <td>ADDITION POLYMERIZATION</td>\n",
       "      <td>ADDITION POLYMERIZATION</td>\n",
       "      <td>加成聚合反应</td>\n",
       "      <td>加成聚合反应</td>\n",
       "      <td>NaN</td>\n",
       "      <td>NaN</td>\n",
       "    </tr>\n",
       "    <tr>\n",
       "      <th>1995</th>\n",
       "      <td>1997</td>\n",
       "      <td>COATING APPARATUS</td>\n",
       "      <td>COATING APPARATUS</td>\n",
       "      <td>NaN</td>\n",
       "      <td>涂层设备</td>\n",
       "      <td>NaN</td>\n",
       "      <td>NaN</td>\n",
       "    </tr>\n",
       "    <tr>\n",
       "      <th>1996</th>\n",
       "      <td>1998</td>\n",
       "      <td>POWER BATTERY</td>\n",
       "      <td>POWER BATTERY</td>\n",
       "      <td>NaN</td>\n",
       "      <td>电源电池</td>\n",
       "      <td>NaN</td>\n",
       "      <td>NaN</td>\n",
       "    </tr>\n",
       "    <tr>\n",
       "      <th>1997</th>\n",
       "      <td>1999</td>\n",
       "      <td>PHTHALIC ANHYDRIDE</td>\n",
       "      <td>PHTHALIC ANHYDRIDE</td>\n",
       "      <td>邻苯二甲酸酐</td>\n",
       "      <td>邻苯二甲酸酐</td>\n",
       "      <td>NaN</td>\n",
       "      <td>NaN</td>\n",
       "    </tr>\n",
       "    <tr>\n",
       "      <th>1998</th>\n",
       "      <td>2000</td>\n",
       "      <td>NANOPARTICLE DISPERSION</td>\n",
       "      <td>NANOPARTICLE DISPERSION</td>\n",
       "      <td>NaN</td>\n",
       "      <td>1</td>\n",
       "      <td>NaN</td>\n",
       "      <td>NaN</td>\n",
       "    </tr>\n",
       "  </tbody>\n",
       "</table>\n",
       "<p>1999 rows × 7 columns</p>\n",
       "</div>"
      ],
      "text/plain": [
       "        序号                 Keywords           Keywords（词根还原）  调用有道翻译  \\\n",
       "0        2        SYNTHETIC POLYMER        SYNTHETIC POLYMER   合成聚合物   \n",
       "1        3          CARBON NANOTUBE          CARBON NANOTUBE    碳纳米管   \n",
       "2        4     AROMATIC HYDROCARBON     AROMATIC HYDROCARBON     芳族烃   \n",
       "3        5          CARBON MATERIAL          CARBON MATERIAL     碳材料   \n",
       "4        6                 HYDROGEN                 HYDROGEN       氢   \n",
       "...    ...                      ...                      ...     ...   \n",
       "1994  1996  ADDITION POLYMERIZATION  ADDITION POLYMERIZATION  加成聚合反应   \n",
       "1995  1997        COATING APPARATUS        COATING APPARATUS     NaN   \n",
       "1996  1998            POWER BATTERY            POWER BATTERY     NaN   \n",
       "1997  1999       PHTHALIC ANHYDRIDE       PHTHALIC ANHYDRIDE  邻苯二甲酸酐   \n",
       "1998  2000  NANOPARTICLE DISPERSION  NANOPARTICLE DISPERSION     NaN   \n",
       "\n",
       "     人工修正（False=1）   合并 词根修正  \n",
       "0            合成聚合物  NaN  NaN  \n",
       "1             碳纳米管  NaN  NaN  \n",
       "2              芳族烃  NaN  NaN  \n",
       "3              碳材料  NaN  NaN  \n",
       "4                氢  NaN  NaN  \n",
       "...            ...  ...  ...  \n",
       "1994        加成聚合反应  NaN  NaN  \n",
       "1995          涂层设备  NaN  NaN  \n",
       "1996          电源电池  NaN  NaN  \n",
       "1997        邻苯二甲酸酐  NaN  NaN  \n",
       "1998             1  NaN  NaN  \n",
       "\n",
       "[1999 rows x 7 columns]"
      ]
     },
     "execution_count": 15,
     "metadata": {},
     "output_type": "execute_result"
    }
   ],
   "source": [
    "df_km"
   ]
  },
  {
   "cell_type": "code",
   "execution_count": 16,
   "metadata": {},
   "outputs": [],
   "source": [
    "df_km = df_km[['Keywords（词根还原）', '人工修正（False=1）']]"
   ]
  },
  {
   "cell_type": "code",
   "execution_count": 17,
   "metadata": {},
   "outputs": [],
   "source": [
    "df_km = df_km[df_km['人工修正（False=1）'] != 1]"
   ]
  },
  {
   "cell_type": "code",
   "execution_count": 18,
   "metadata": {},
   "outputs": [],
   "source": [
    "df_km.columns = ['Keywords','中文翻译']"
   ]
  },
  {
   "cell_type": "code",
   "execution_count": 19,
   "metadata": {},
   "outputs": [],
   "source": [
    "df_km.reset_index(drop=True, inplace= True)"
   ]
  },
  {
   "cell_type": "code",
   "execution_count": 20,
   "metadata": {},
   "outputs": [],
   "source": [
    "df_km.to_excel('./out/kws_total_top2000_20201129.xlsx')"
   ]
  },
  {
   "cell_type": "code",
   "execution_count": 21,
   "metadata": {},
   "outputs": [],
   "source": [
    "kws_res = pd.merge(df_km, res_df, how='left')"
   ]
  },
  {
   "cell_type": "code",
   "execution_count": 22,
   "metadata": {},
   "outputs": [],
   "source": [
    "kws_res.to_excel('./out/kws_result_all.xlsx')"
   ]
  },
  {
   "cell_type": "code",
   "execution_count": 23,
   "metadata": {},
   "outputs": [
    {
     "data": {
      "text/html": [
       "<div>\n",
       "<style scoped>\n",
       "    .dataframe tbody tr th:only-of-type {\n",
       "        vertical-align: middle;\n",
       "    }\n",
       "\n",
       "    .dataframe tbody tr th {\n",
       "        vertical-align: top;\n",
       "    }\n",
       "\n",
       "    .dataframe thead th {\n",
       "        text-align: right;\n",
       "    }\n",
       "</style>\n",
       "<table border=\"1\" class=\"dataframe\">\n",
       "  <thead>\n",
       "    <tr style=\"text-align: right;\">\n",
       "      <th></th>\n",
       "      <th>Keywords</th>\n",
       "      <th>中文翻译</th>\n",
       "      <th>freq</th>\n",
       "      <th>中国</th>\n",
       "      <th>中国_freq</th>\n",
       "      <th>总体</th>\n",
       "      <th>日本</th>\n",
       "      <th>日本_freq</th>\n",
       "      <th>欧盟</th>\n",
       "      <th>欧盟_freq</th>\n",
       "      <th>美国</th>\n",
       "      <th>美国_freq</th>\n",
       "    </tr>\n",
       "  </thead>\n",
       "  <tbody>\n",
       "    <tr>\n",
       "      <th>0</th>\n",
       "      <td>SYNTHETIC POLYMER</td>\n",
       "      <td>合成聚合物</td>\n",
       "      <td>100566.0</td>\n",
       "      <td>0.119043</td>\n",
       "      <td>1586.0</td>\n",
       "      <td>0.095913</td>\n",
       "      <td>0.095904</td>\n",
       "      <td>23663.0</td>\n",
       "      <td>0.090373</td>\n",
       "      <td>19464.0</td>\n",
       "      <td>0.093011</td>\n",
       "      <td>24847.0</td>\n",
       "    </tr>\n",
       "    <tr>\n",
       "      <th>1</th>\n",
       "      <td>CARBON NANOTUBE</td>\n",
       "      <td>碳纳米管</td>\n",
       "      <td>71845.0</td>\n",
       "      <td>0.113703</td>\n",
       "      <td>1305.0</td>\n",
       "      <td>0.093500</td>\n",
       "      <td>0.101820</td>\n",
       "      <td>23799.0</td>\n",
       "      <td>0.083835</td>\n",
       "      <td>12138.0</td>\n",
       "      <td>0.088301</td>\n",
       "      <td>13973.0</td>\n",
       "    </tr>\n",
       "    <tr>\n",
       "      <th>2</th>\n",
       "      <td>AROMATIC HYDROCARBON</td>\n",
       "      <td>芳族烃</td>\n",
       "      <td>68547.0</td>\n",
       "      <td>0.116673</td>\n",
       "      <td>1188.0</td>\n",
       "      <td>0.093124</td>\n",
       "      <td>0.101066</td>\n",
       "      <td>23435.0</td>\n",
       "      <td>0.083196</td>\n",
       "      <td>11599.0</td>\n",
       "      <td>0.087857</td>\n",
       "      <td>12843.0</td>\n",
       "    </tr>\n",
       "    <tr>\n",
       "      <th>3</th>\n",
       "      <td>CARBON MATERIAL</td>\n",
       "      <td>碳材料</td>\n",
       "      <td>68723.0</td>\n",
       "      <td>0.118701</td>\n",
       "      <td>1197.0</td>\n",
       "      <td>0.093679</td>\n",
       "      <td>0.101661</td>\n",
       "      <td>23866.0</td>\n",
       "      <td>0.083768</td>\n",
       "      <td>11454.0</td>\n",
       "      <td>0.088163</td>\n",
       "      <td>12786.0</td>\n",
       "    </tr>\n",
       "    <tr>\n",
       "      <th>4</th>\n",
       "      <td>HYDROGEN</td>\n",
       "      <td>氢</td>\n",
       "      <td>54436.0</td>\n",
       "      <td>0.102672</td>\n",
       "      <td>784.0</td>\n",
       "      <td>0.079394</td>\n",
       "      <td>0.087842</td>\n",
       "      <td>16907.0</td>\n",
       "      <td>0.070014</td>\n",
       "      <td>10547.0</td>\n",
       "      <td>0.074383</td>\n",
       "      <td>8584.0</td>\n",
       "    </tr>\n",
       "    <tr>\n",
       "      <th>...</th>\n",
       "      <td>...</td>\n",
       "      <td>...</td>\n",
       "      <td>...</td>\n",
       "      <td>...</td>\n",
       "      <td>...</td>\n",
       "      <td>...</td>\n",
       "      <td>...</td>\n",
       "      <td>...</td>\n",
       "      <td>...</td>\n",
       "      <td>...</td>\n",
       "      <td>...</td>\n",
       "      <td>...</td>\n",
       "    </tr>\n",
       "    <tr>\n",
       "      <th>1678</th>\n",
       "      <td>CERAMIC COMPONENT</td>\n",
       "      <td>陶瓷零件</td>\n",
       "      <td>128.0</td>\n",
       "      <td>0.128359</td>\n",
       "      <td>4.0</td>\n",
       "      <td>0.104472</td>\n",
       "      <td>0.082396</td>\n",
       "      <td>17.0</td>\n",
       "      <td>0.091892</td>\n",
       "      <td>31.0</td>\n",
       "      <td>0.110047</td>\n",
       "      <td>51.0</td>\n",
       "    </tr>\n",
       "    <tr>\n",
       "      <th>1679</th>\n",
       "      <td>ADDITION POLYMERIZATION</td>\n",
       "      <td>加成聚合反应</td>\n",
       "      <td>121.0</td>\n",
       "      <td>0.180771</td>\n",
       "      <td>2.0</td>\n",
       "      <td>0.064291</td>\n",
       "      <td>0.061522</td>\n",
       "      <td>75.0</td>\n",
       "      <td>0.061851</td>\n",
       "      <td>8.0</td>\n",
       "      <td>0.060956</td>\n",
       "      <td>20.0</td>\n",
       "    </tr>\n",
       "    <tr>\n",
       "      <th>1680</th>\n",
       "      <td>COATING APPARATUS</td>\n",
       "      <td>涂层设备</td>\n",
       "      <td>145.0</td>\n",
       "      <td>0.000000</td>\n",
       "      <td>0.0</td>\n",
       "      <td>0.088073</td>\n",
       "      <td>0.102330</td>\n",
       "      <td>48.0</td>\n",
       "      <td>0.079305</td>\n",
       "      <td>13.0</td>\n",
       "      <td>0.086006</td>\n",
       "      <td>33.0</td>\n",
       "    </tr>\n",
       "    <tr>\n",
       "      <th>1681</th>\n",
       "      <td>POWER BATTERY</td>\n",
       "      <td>电源电池</td>\n",
       "      <td>142.0</td>\n",
       "      <td>0.185661</td>\n",
       "      <td>87.0</td>\n",
       "      <td>0.136484</td>\n",
       "      <td>0.000000</td>\n",
       "      <td>0.0</td>\n",
       "      <td>0.147686</td>\n",
       "      <td>18.0</td>\n",
       "      <td>0.033507</td>\n",
       "      <td>5.0</td>\n",
       "    </tr>\n",
       "    <tr>\n",
       "      <th>1682</th>\n",
       "      <td>PHTHALIC ANHYDRIDE</td>\n",
       "      <td>邻苯二甲酸酐</td>\n",
       "      <td>122.0</td>\n",
       "      <td>0.115842</td>\n",
       "      <td>3.0</td>\n",
       "      <td>0.072263</td>\n",
       "      <td>0.030054</td>\n",
       "      <td>11.0</td>\n",
       "      <td>0.067128</td>\n",
       "      <td>63.0</td>\n",
       "      <td>0.105562</td>\n",
       "      <td>13.0</td>\n",
       "    </tr>\n",
       "  </tbody>\n",
       "</table>\n",
       "<p>1683 rows × 12 columns</p>\n",
       "</div>"
      ],
      "text/plain": [
       "                     Keywords    中文翻译      freq        中国  中国_freq        总体  \\\n",
       "0           SYNTHETIC POLYMER   合成聚合物  100566.0  0.119043   1586.0  0.095913   \n",
       "1             CARBON NANOTUBE    碳纳米管   71845.0  0.113703   1305.0  0.093500   \n",
       "2        AROMATIC HYDROCARBON     芳族烃   68547.0  0.116673   1188.0  0.093124   \n",
       "3             CARBON MATERIAL     碳材料   68723.0  0.118701   1197.0  0.093679   \n",
       "4                    HYDROGEN       氢   54436.0  0.102672    784.0  0.079394   \n",
       "...                       ...     ...       ...       ...      ...       ...   \n",
       "1678        CERAMIC COMPONENT    陶瓷零件     128.0  0.128359      4.0  0.104472   \n",
       "1679  ADDITION POLYMERIZATION  加成聚合反应     121.0  0.180771      2.0  0.064291   \n",
       "1680        COATING APPARATUS    涂层设备     145.0  0.000000      0.0  0.088073   \n",
       "1681            POWER BATTERY    电源电池     142.0  0.185661     87.0  0.136484   \n",
       "1682       PHTHALIC ANHYDRIDE  邻苯二甲酸酐     122.0  0.115842      3.0  0.072263   \n",
       "\n",
       "            日本  日本_freq        欧盟  欧盟_freq        美国  美国_freq  \n",
       "0     0.095904  23663.0  0.090373  19464.0  0.093011  24847.0  \n",
       "1     0.101820  23799.0  0.083835  12138.0  0.088301  13973.0  \n",
       "2     0.101066  23435.0  0.083196  11599.0  0.087857  12843.0  \n",
       "3     0.101661  23866.0  0.083768  11454.0  0.088163  12786.0  \n",
       "4     0.087842  16907.0  0.070014  10547.0  0.074383   8584.0  \n",
       "...        ...      ...       ...      ...       ...      ...  \n",
       "1678  0.082396     17.0  0.091892     31.0  0.110047     51.0  \n",
       "1679  0.061522     75.0  0.061851      8.0  0.060956     20.0  \n",
       "1680  0.102330     48.0  0.079305     13.0  0.086006     33.0  \n",
       "1681  0.000000      0.0  0.147686     18.0  0.033507      5.0  \n",
       "1682  0.030054     11.0  0.067128     63.0  0.105562     13.0  \n",
       "\n",
       "[1683 rows x 12 columns]"
      ]
     },
     "execution_count": 23,
     "metadata": {},
     "output_type": "execute_result"
    }
   ],
   "source": [
    "kws_res"
   ]
  },
  {
   "cell_type": "code",
   "execution_count": 4,
   "metadata": {},
   "outputs": [],
   "source": [
    "kws_label = pd.read_excel('./in/liuyu_v3.xlsx',header=1, index_col=0)"
   ]
  },
  {
   "cell_type": "code",
   "execution_count": 68,
   "metadata": {},
   "outputs": [],
   "source": [
    "label_w = kws_label[kws_label['新材料技术一级分类'] == '关键词有误'][['关键词（EN)']]"
   ]
  },
  {
   "cell_type": "code",
   "execution_count": 69,
   "metadata": {},
   "outputs": [],
   "source": [
    "kws_res[~kws_res['Keywords'].isin(label_w['关键词（EN)'])].reset_index(drop=True).dropna().to_excel('./out/kws_result.xlsx')"
   ]
  },
  {
   "cell_type": "code",
   "execution_count": 70,
   "metadata": {},
   "outputs": [
    {
     "data": {
      "text/html": [
       "<div>\n",
       "<style scoped>\n",
       "    .dataframe tbody tr th:only-of-type {\n",
       "        vertical-align: middle;\n",
       "    }\n",
       "\n",
       "    .dataframe tbody tr th {\n",
       "        vertical-align: top;\n",
       "    }\n",
       "\n",
       "    .dataframe thead th {\n",
       "        text-align: right;\n",
       "    }\n",
       "</style>\n",
       "<table border=\"1\" class=\"dataframe\">\n",
       "  <thead>\n",
       "    <tr style=\"text-align: right;\">\n",
       "      <th></th>\n",
       "      <th>freq</th>\n",
       "      <th>中国</th>\n",
       "      <th>中国_freq</th>\n",
       "      <th>总体</th>\n",
       "      <th>日本</th>\n",
       "      <th>日本_freq</th>\n",
       "      <th>欧盟</th>\n",
       "      <th>欧盟_freq</th>\n",
       "      <th>美国</th>\n",
       "      <th>美国_freq</th>\n",
       "    </tr>\n",
       "  </thead>\n",
       "  <tbody>\n",
       "    <tr>\n",
       "      <th>ENERGY STORAGE</th>\n",
       "      <td>4529.0</td>\n",
       "      <td>0.176916</td>\n",
       "      <td>141.0</td>\n",
       "      <td>0.12851</td>\n",
       "      <td>0.186693</td>\n",
       "      <td>850.0</td>\n",
       "      <td>0.126331</td>\n",
       "      <td>917.0</td>\n",
       "      <td>0.120829</td>\n",
       "      <td>1314.0</td>\n",
       "    </tr>\n",
       "  </tbody>\n",
       "</table>\n",
       "</div>"
      ],
      "text/plain": [
       "                  freq        中国  中国_freq       总体        日本  日本_freq  \\\n",
       "ENERGY STORAGE  4529.0  0.176916    141.0  0.12851  0.186693    850.0   \n",
       "\n",
       "                      欧盟  欧盟_freq        美国  美国_freq  \n",
       "ENERGY STORAGE  0.126331    917.0  0.120829   1314.0  "
      ]
     },
     "execution_count": 70,
     "metadata": {},
     "output_type": "execute_result"
    }
   ],
   "source": [
    "coefs[coefs.index.isin(['ENERGY STORAGE'])]"
   ]
  },
  {
   "cell_type": "code",
   "execution_count": 72,
   "metadata": {},
   "outputs": [],
   "source": [
    "# df_agg['LI-ION BATTERY/CAPACITOR'].sum()"
   ]
  },
  {
   "cell_type": "code",
   "execution_count": 114,
   "metadata": {},
   "outputs": [
    {
     "data": {
      "text/html": [
       "<div>\n",
       "<style scoped>\n",
       "    .dataframe tbody tr th:only-of-type {\n",
       "        vertical-align: middle;\n",
       "    }\n",
       "\n",
       "    .dataframe tbody tr th {\n",
       "        vertical-align: top;\n",
       "    }\n",
       "\n",
       "    .dataframe thead th {\n",
       "        text-align: right;\n",
       "    }\n",
       "</style>\n",
       "<table border=\"1\" class=\"dataframe\">\n",
       "  <thead>\n",
       "    <tr style=\"text-align: right;\">\n",
       "      <th></th>\n",
       "      <th>Extracted Keywords</th>\n",
       "      <th>调用有道翻译</th>\n",
       "      <th>提取关键词（百度机器翻译）</th>\n",
       "      <th>stopwords</th>\n",
       "      <th>wcount</th>\n",
       "      <th>stopwords2</th>\n",
       "    </tr>\n",
       "  </thead>\n",
       "  <tbody>\n",
       "  </tbody>\n",
       "</table>\n",
       "</div>"
      ],
      "text/plain": [
       "Empty DataFrame\n",
       "Columns: [Extracted Keywords, 调用有道翻译, 提取关键词（百度机器翻译）, stopwords, wcount, stopwords2]\n",
       "Index: []"
      ]
     },
     "execution_count": 114,
     "metadata": {},
     "output_type": "execute_result"
    }
   ],
   "source": [
    "kws_t[kws_t['Extracted Keywords'] == '']"
   ]
  },
  {
   "cell_type": "code",
   "execution_count": 76,
   "metadata": {},
   "outputs": [
    {
     "data": {
      "text/plain": [
       "'LI-ION BATTERY/CAPACITOR'"
      ]
     },
     "execution_count": 76,
     "metadata": {},
     "output_type": "execute_result"
    }
   ],
   "source": []
  },
  {
   "cell_type": "code",
   "execution_count": 955,
   "metadata": {},
   "outputs": [],
   "source": [
    "# kws_[kws_['Extracted Keywords'] == 'PHARMACEUTICAL']"
   ]
  },
  {
   "cell_type": "code",
   "execution_count": 153,
   "metadata": {},
   "outputs": [],
   "source": [
    "kws_res[~kws_res['Keywords'].isin(label_w['关键词（EN)'])].reset_index(drop=True).to_excel('./out/kws_test.xlsx')"
   ]
  },
  {
   "cell_type": "code",
   "execution_count": 121,
   "metadata": {},
   "outputs": [
    {
     "data": {
      "text/plain": [
       "2925"
      ]
     },
     "execution_count": 121,
     "metadata": {},
     "output_type": "execute_result"
    }
   ],
   "source": [
    "df_w['LI-ION BATTERY/CAPACITOR'].sum()"
   ]
  },
  {
   "cell_type": "code",
   "execution_count": 152,
   "metadata": {},
   "outputs": [
    {
     "data": {
      "text/html": [
       "<div>\n",
       "<style scoped>\n",
       "    .dataframe tbody tr th:only-of-type {\n",
       "        vertical-align: middle;\n",
       "    }\n",
       "\n",
       "    .dataframe tbody tr th {\n",
       "        vertical-align: top;\n",
       "    }\n",
       "\n",
       "    .dataframe thead th {\n",
       "        text-align: right;\n",
       "    }\n",
       "</style>\n",
       "<table border=\"1\" class=\"dataframe\">\n",
       "  <thead>\n",
       "    <tr style=\"text-align: right;\">\n",
       "      <th></th>\n",
       "      <th>freq</th>\n",
       "      <th>中国</th>\n",
       "      <th>中国_freq</th>\n",
       "      <th>总体</th>\n",
       "      <th>日本</th>\n",
       "      <th>日本_freq</th>\n",
       "      <th>欧盟</th>\n",
       "      <th>欧盟_freq</th>\n",
       "      <th>美国</th>\n",
       "      <th>美国_freq</th>\n",
       "    </tr>\n",
       "  </thead>\n",
       "  <tbody>\n",
       "    <tr>\n",
       "      <th>POLYMER</th>\n",
       "      <td>164962.0</td>\n",
       "      <td>0.121133</td>\n",
       "      <td>2489.0</td>\n",
       "      <td>0.096859</td>\n",
       "      <td>0.096795</td>\n",
       "      <td>40644.0</td>\n",
       "      <td>0.092035</td>\n",
       "      <td>32739.0</td>\n",
       "      <td>0.093717</td>\n",
       "      <td>40578.0</td>\n",
       "    </tr>\n",
       "    <tr>\n",
       "      <th>METAL</th>\n",
       "      <td>87056.0</td>\n",
       "      <td>0.126322</td>\n",
       "      <td>1806.0</td>\n",
       "      <td>0.096792</td>\n",
       "      <td>0.101401</td>\n",
       "      <td>25257.0</td>\n",
       "      <td>0.089807</td>\n",
       "      <td>16601.0</td>\n",
       "      <td>0.090342</td>\n",
       "      <td>18250.0</td>\n",
       "    </tr>\n",
       "    <tr>\n",
       "      <th>SYNTHETIC POLYMER</th>\n",
       "      <td>82113.0</td>\n",
       "      <td>0.121033</td>\n",
       "      <td>1234.0</td>\n",
       "      <td>0.096703</td>\n",
       "      <td>0.096779</td>\n",
       "      <td>20240.0</td>\n",
       "      <td>0.091907</td>\n",
       "      <td>16283.0</td>\n",
       "      <td>0.093560</td>\n",
       "      <td>20205.0</td>\n",
       "    </tr>\n",
       "    <tr>\n",
       "      <th>SILICON</th>\n",
       "      <td>63329.0</td>\n",
       "      <td>0.132094</td>\n",
       "      <td>1527.0</td>\n",
       "      <td>0.092658</td>\n",
       "      <td>0.093327</td>\n",
       "      <td>22244.0</td>\n",
       "      <td>0.089663</td>\n",
       "      <td>11103.0</td>\n",
       "      <td>0.084317</td>\n",
       "      <td>15315.0</td>\n",
       "    </tr>\n",
       "    <tr>\n",
       "      <th>SEMICONDUCTOR</th>\n",
       "      <td>61233.0</td>\n",
       "      <td>0.128027</td>\n",
       "      <td>955.0</td>\n",
       "      <td>0.094718</td>\n",
       "      <td>0.095823</td>\n",
       "      <td>27998.0</td>\n",
       "      <td>0.086231</td>\n",
       "      <td>8917.0</td>\n",
       "      <td>0.086215</td>\n",
       "      <td>10913.0</td>\n",
       "    </tr>\n",
       "    <tr>\n",
       "      <th>...</th>\n",
       "      <td>...</td>\n",
       "      <td>...</td>\n",
       "      <td>...</td>\n",
       "      <td>...</td>\n",
       "      <td>...</td>\n",
       "      <td>...</td>\n",
       "      <td>...</td>\n",
       "      <td>...</td>\n",
       "      <td>...</td>\n",
       "      <td>...</td>\n",
       "    </tr>\n",
       "    <tr>\n",
       "      <th>CONDUCTIVE ROLLER</th>\n",
       "      <td>20.0</td>\n",
       "      <td>0.000000</td>\n",
       "      <td>0.0</td>\n",
       "      <td>0.119008</td>\n",
       "      <td>0.118187</td>\n",
       "      <td>20.0</td>\n",
       "      <td>0.000000</td>\n",
       "      <td>0.0</td>\n",
       "      <td>0.000000</td>\n",
       "      <td>0.0</td>\n",
       "    </tr>\n",
       "    <tr>\n",
       "      <th>ELECTRONIC CAMERA</th>\n",
       "      <td>20.0</td>\n",
       "      <td>0.000000</td>\n",
       "      <td>0.0</td>\n",
       "      <td>0.102338</td>\n",
       "      <td>0.107049</td>\n",
       "      <td>12.0</td>\n",
       "      <td>0.000000</td>\n",
       "      <td>0.0</td>\n",
       "      <td>0.069391</td>\n",
       "      <td>3.0</td>\n",
       "    </tr>\n",
       "    <tr>\n",
       "      <th>DECORATIVE ARTICLE</th>\n",
       "      <td>20.0</td>\n",
       "      <td>0.000000</td>\n",
       "      <td>0.0</td>\n",
       "      <td>0.133217</td>\n",
       "      <td>0.126690</td>\n",
       "      <td>14.0</td>\n",
       "      <td>0.106616</td>\n",
       "      <td>2.0</td>\n",
       "      <td>0.131135</td>\n",
       "      <td>2.0</td>\n",
       "    </tr>\n",
       "    <tr>\n",
       "      <th>CNS DISORDER</th>\n",
       "      <td>20.0</td>\n",
       "      <td>0.405459</td>\n",
       "      <td>1.0</td>\n",
       "      <td>0.115055</td>\n",
       "      <td>0.130734</td>\n",
       "      <td>1.0</td>\n",
       "      <td>0.113960</td>\n",
       "      <td>1.0</td>\n",
       "      <td>0.109081</td>\n",
       "      <td>6.0</td>\n",
       "    </tr>\n",
       "    <tr>\n",
       "      <th>ACRYLIC POLYMER COMPOSITION</th>\n",
       "      <td>20.0</td>\n",
       "      <td>0.000000</td>\n",
       "      <td>0.0</td>\n",
       "      <td>0.120648</td>\n",
       "      <td>0.181690</td>\n",
       "      <td>13.0</td>\n",
       "      <td>0.000000</td>\n",
       "      <td>0.0</td>\n",
       "      <td>0.000000</td>\n",
       "      <td>0.0</td>\n",
       "    </tr>\n",
       "  </tbody>\n",
       "</table>\n",
       "<p>4587 rows × 10 columns</p>\n",
       "</div>"
      ],
      "text/plain": [
       "                                 freq        中国  中国_freq        总体        日本  \\\n",
       "POLYMER                      164962.0  0.121133   2489.0  0.096859  0.096795   \n",
       "METAL                         87056.0  0.126322   1806.0  0.096792  0.101401   \n",
       "SYNTHETIC POLYMER             82113.0  0.121033   1234.0  0.096703  0.096779   \n",
       "SILICON                       63329.0  0.132094   1527.0  0.092658  0.093327   \n",
       "SEMICONDUCTOR                 61233.0  0.128027    955.0  0.094718  0.095823   \n",
       "...                               ...       ...      ...       ...       ...   \n",
       "CONDUCTIVE ROLLER                20.0  0.000000      0.0  0.119008  0.118187   \n",
       "ELECTRONIC CAMERA                20.0  0.000000      0.0  0.102338  0.107049   \n",
       "DECORATIVE ARTICLE               20.0  0.000000      0.0  0.133217  0.126690   \n",
       "CNS DISORDER                     20.0  0.405459      1.0  0.115055  0.130734   \n",
       "ACRYLIC POLYMER COMPOSITION      20.0  0.000000      0.0  0.120648  0.181690   \n",
       "\n",
       "                             日本_freq        欧盟  欧盟_freq        美国  美国_freq  \n",
       "POLYMER                      40644.0  0.092035  32739.0  0.093717  40578.0  \n",
       "METAL                        25257.0  0.089807  16601.0  0.090342  18250.0  \n",
       "SYNTHETIC POLYMER            20240.0  0.091907  16283.0  0.093560  20205.0  \n",
       "SILICON                      22244.0  0.089663  11103.0  0.084317  15315.0  \n",
       "SEMICONDUCTOR                27998.0  0.086231   8917.0  0.086215  10913.0  \n",
       "...                              ...       ...      ...       ...      ...  \n",
       "CONDUCTIVE ROLLER               20.0  0.000000      0.0  0.000000      0.0  \n",
       "ELECTRONIC CAMERA               12.0  0.000000      0.0  0.069391      3.0  \n",
       "DECORATIVE ARTICLE              14.0  0.106616      2.0  0.131135      2.0  \n",
       "CNS DISORDER                     1.0  0.113960      1.0  0.109081      6.0  \n",
       "ACRYLIC POLYMER COMPOSITION     13.0  0.000000      0.0  0.000000      0.0  \n",
       "\n",
       "[4587 rows x 10 columns]"
      ]
     },
     "execution_count": 152,
     "metadata": {},
     "output_type": "execute_result"
    }
   ],
   "source": [
    "coefs"
   ]
  },
  {
   "cell_type": "code",
   "execution_count": null,
   "metadata": {},
   "outputs": [],
   "source": []
  }
 ],
 "metadata": {
  "kernelspec": {
   "display_name": "PyCharm (jupyterProject)",
   "language": "python",
   "name": "pycharm-29c72c67"
  },
  "language_info": {
   "codemirror_mode": {
    "name": "ipython",
    "version": 3
   },
   "file_extension": ".py",
   "mimetype": "text/x-python",
   "name": "python",
   "nbconvert_exporter": "python",
   "pygments_lexer": "ipython3",
   "version": "3.7.8"
  }
 },
 "nbformat": 4,
 "nbformat_minor": 4
}
